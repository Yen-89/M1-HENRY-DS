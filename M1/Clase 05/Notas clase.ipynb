{
 "cells": [
  {
   "cell_type": "code",
   "execution_count": null,
   "metadata": {},
   "outputs": [],
   "source": []
  }
 ],
 "metadata": {
  "kernelspec": {
   "display_name": "Python 3",
   "language": "python",
   "name": "python3"
  },
  "language_info": {
   "name": "python",
   "version": "3.10.10"
  },
  "orig_nbformat": 4,
  "vscode": {
   "interpreter": {
    "hash": "2d54e570767e6207f53570bb56a4a95ab889c5c399d802a23d4f934feb2ea66f"
   }
  }
 },
 "nbformat": 4,
 "nbformat_minor": 2
}
