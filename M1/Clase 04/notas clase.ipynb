{
 "cells": [
  {
   "cell_type": "code",
   "execution_count": 3,
   "metadata": {},
   "outputs": [],
   "source": [
    "import pandas as pd\n",
    "import numpy as np"
   ]
  },
  {
   "cell_type": "code",
   "execution_count": 2,
   "metadata": {},
   "outputs": [],
   "source": [
    "lista = [\"Yenifer\", \"Andrea\", \"Christian\"]"
   ]
  },
  {
   "cell_type": "code",
   "execution_count": 10,
   "metadata": {},
   "outputs": [
    {
     "name": "stdout",
     "output_type": "stream",
     "text": [
      "0      Yenifer\n",
      "1       Andrea\n",
      "2    Christian\n",
      "dtype: object\n"
     ]
    }
   ],
   "source": [
    "series = pd.Series(lista)\n",
    "print(series)"
   ]
  },
  {
   "cell_type": "code",
   "execution_count": 5,
   "metadata": {},
   "outputs": [],
   "source": [
    "#vamos a generar series con diccionarios\n",
    "#np.nan es para que me aparezca que nohay un # definido\n",
    "diccionario = {'Java':5.0, 'Python':10.0, 'C++':5.5, 'Cobol':np.nan}"
   ]
  },
  {
   "cell_type": "code",
   "execution_count": 7,
   "metadata": {},
   "outputs": [],
   "source": [
    "serie_2 = pd.Series(diccionario)"
   ]
  },
  {
   "cell_type": "code",
   "execution_count": 8,
   "metadata": {},
   "outputs": [
    {
     "data": {
      "text/plain": [
       "Java       5.0\n",
       "Python    10.0\n",
       "C++        5.5\n",
       "Cobol      NaN\n",
       "dtype: float64"
      ]
     },
     "execution_count": 8,
     "metadata": {},
     "output_type": "execute_result"
    }
   ],
   "source": [
    "serie_2"
   ]
  },
  {
   "cell_type": "code",
   "execution_count": 13,
   "metadata": {},
   "outputs": [
    {
     "data": {
      "text/plain": [
       "nan"
      ]
     },
     "execution_count": 13,
     "metadata": {},
     "output_type": "execute_result"
    }
   ],
   "source": [
    "#como acceder a los elementos de la serie 1 y serie 2\n",
    "serie_2[3]"
   ]
  },
  {
   "cell_type": "code",
   "execution_count": 14,
   "metadata": {},
   "outputs": [
    {
     "data": {
      "text/plain": [
       "5.0"
      ]
     },
     "execution_count": 14,
     "metadata": {},
     "output_type": "execute_result"
    }
   ],
   "source": [
    "serie_2[\"Java\"]"
   ]
  },
  {
   "cell_type": "code",
   "execution_count": 28,
   "metadata": {},
   "outputs": [
    {
     "data": {
      "text/plain": [
       "Java       5.0\n",
       "Python    10.0\n",
       "C++        5.5\n",
       "Cobol      NaN\n",
       "dtype: float64"
      ]
     },
     "execution_count": 28,
     "metadata": {},
     "output_type": "execute_result"
    }
   ],
   "source": [
    "serie_2"
   ]
  },
  {
   "cell_type": "code",
   "execution_count": 16,
   "metadata": {},
   "outputs": [
    {
     "data": {
      "text/plain": [
       "4"
      ]
     },
     "execution_count": 16,
     "metadata": {},
     "output_type": "execute_result"
    }
   ],
   "source": [
    "#par saber los elementos\n",
    "serie_2.size"
   ]
  },
  {
   "cell_type": "code",
   "execution_count": 17,
   "metadata": {},
   "outputs": [
    {
     "data": {
      "text/plain": [
       "Index(['Java', 'Python', 'C++', 'Cobol'], dtype='object')"
      ]
     },
     "execution_count": 17,
     "metadata": {},
     "output_type": "execute_result"
    }
   ],
   "source": [
    "#saber que indices tiene la serie\n",
    "serie_2.index"
   ]
  },
  {
   "cell_type": "code",
   "execution_count": 18,
   "metadata": {},
   "outputs": [
    {
     "data": {
      "text/plain": [
       "Java     5.0\n",
       "C++      5.5\n",
       "Cobol    NaN\n",
       "dtype: float64"
      ]
     },
     "execution_count": 18,
     "metadata": {},
     "output_type": "execute_result"
    }
   ],
   "source": [
    "#una ventaja de pandas que no se puede con diccionario, puedo llamar varias claves a la vez\n",
    "serie_2[[\"Java\", \"C++\", \"Cobol\"]]"
   ]
  },
  {
   "attachments": {},
   "cell_type": "markdown",
   "metadata": {},
   "source": [
    "Descripción mate de series"
   ]
  },
  {
   "cell_type": "code",
   "execution_count": 20,
   "metadata": {},
   "outputs": [
    {
     "data": {
      "text/plain": [
       "3"
      ]
     },
     "execution_count": 20,
     "metadata": {},
     "output_type": "execute_result"
    }
   ],
   "source": [
    "serie_2.count()"
   ]
  },
  {
   "cell_type": "code",
   "execution_count": 21,
   "metadata": {},
   "outputs": [
    {
     "data": {
      "text/plain": [
       "nan"
      ]
     },
     "execution_count": 21,
     "metadata": {},
     "output_type": "execute_result"
    }
   ],
   "source": [
    "np.nan"
   ]
  },
  {
   "cell_type": "code",
   "execution_count": 25,
   "metadata": {},
   "outputs": [
    {
     "data": {
      "text/plain": [
       "20.5"
      ]
     },
     "execution_count": 25,
     "metadata": {},
     "output_type": "execute_result"
    }
   ],
   "source": [
    "#sumar y hacer suma acumulativa\n",
    "#quiero la suma de todos los valores de la serie2\n",
    "serie_2.sum()"
   ]
  },
  {
   "cell_type": "code",
   "execution_count": 26,
   "metadata": {},
   "outputs": [
    {
     "data": {
      "text/plain": [
       "Java       5.0\n",
       "Python    15.0\n",
       "C++       20.5\n",
       "Cobol      NaN\n",
       "dtype: float64"
      ]
     },
     "execution_count": 26,
     "metadata": {},
     "output_type": "execute_result"
    }
   ],
   "source": [
    "#acumulativa\n",
    "serie_2.cumsum()"
   ]
  },
  {
   "cell_type": "code",
   "execution_count": 30,
   "metadata": {},
   "outputs": [
    {
     "data": {
      "text/plain": [
       "Java       5.0\n",
       "Python    10.0\n",
       "C++        5.5\n",
       "Cobol      NaN\n",
       "dtype: float64"
      ]
     },
     "execution_count": 30,
     "metadata": {},
     "output_type": "execute_result"
    }
   ],
   "source": [
    "serie_2"
   ]
  },
  {
   "cell_type": "code",
   "execution_count": 27,
   "metadata": {},
   "outputs": [
    {
     "data": {
      "text/plain": [
       "5.0     1\n",
       "10.0    1\n",
       "5.5     1\n",
       "dtype: int64"
      ]
     },
     "execution_count": 27,
     "metadata": {},
     "output_type": "execute_result"
    }
   ],
   "source": [
    "#conteo de valores repetidos dentro de la serie\n",
    "serie_2.value_counts()"
   ]
  },
  {
   "cell_type": "code",
   "execution_count": 31,
   "metadata": {},
   "outputs": [
    {
     "data": {
      "text/plain": [
       "5.0"
      ]
     },
     "execution_count": 31,
     "metadata": {},
     "output_type": "execute_result"
    }
   ],
   "source": [
    "#min y max\n",
    "serie_2.min()"
   ]
  },
  {
   "cell_type": "code",
   "execution_count": 32,
   "metadata": {},
   "outputs": [
    {
     "data": {
      "text/plain": [
       "10.0"
      ]
     },
     "execution_count": 32,
     "metadata": {},
     "output_type": "execute_result"
    }
   ],
   "source": [
    "serie_2.max()"
   ]
  },
  {
   "cell_type": "code",
   "execution_count": 33,
   "metadata": {},
   "outputs": [
    {
     "data": {
      "text/plain": [
       "6.833333333333333"
      ]
     },
     "execution_count": 33,
     "metadata": {},
     "output_type": "execute_result"
    }
   ],
   "source": [
    "#Descriptvo estadistico \n",
    "serie_2.mean()  #quiero sacar la media de esta serie"
   ]
  },
  {
   "cell_type": "code",
   "execution_count": 34,
   "metadata": {},
   "outputs": [
    {
     "data": {
      "text/plain": [
       "2.753785273643051"
      ]
     },
     "execution_count": 34,
     "metadata": {},
     "output_type": "execute_result"
    }
   ],
   "source": [
    "#desviación estandar de esta serie\n",
    "serie_2.std()"
   ]
  },
  {
   "cell_type": "code",
   "execution_count": 35,
   "metadata": {},
   "outputs": [
    {
     "data": {
      "text/plain": [
       "count     3.000000\n",
       "mean      6.833333\n",
       "std       2.753785\n",
       "min       5.000000\n",
       "25%       5.250000\n",
       "50%       5.500000\n",
       "75%       7.750000\n",
       "max      10.000000\n",
       "dtype: float64"
      ]
     },
     "execution_count": 35,
     "metadata": {},
     "output_type": "execute_result"
    }
   ],
   "source": [
    "#sacar información estadistica \n",
    "serie_2.describe()"
   ]
  },
  {
   "cell_type": "code",
   "execution_count": 36,
   "metadata": {},
   "outputs": [],
   "source": [
    "#dataframes\n",
    "#es muy util hacer dataframes con diccionarios\n",
    "frutas = [\"manzana\", \"tomate\", \"aguacate\", \"pera\"]\n",
    "masa = [\"2\", \"0.5\", \"1\", \"10\"]\n",
    "pais = [\"peru\", \"colombia\", \"mexico\", \"argentina\"]"
   ]
  },
  {
   "cell_type": "code",
   "execution_count": 37,
   "metadata": {},
   "outputs": [],
   "source": [
    "dato = {\"frutas\":frutas, \"masa:\":masa, \"pais\":pais} "
   ]
  },
  {
   "cell_type": "code",
   "execution_count": 38,
   "metadata": {},
   "outputs": [
    {
     "data": {
      "text/plain": [
       "{'frutas': ['manzana', 'tomate', 'aguacate', 'pera'],\n",
       " 'masa:': ['2', '0.5', '1', '10'],\n",
       " 'pais': ['peru', 'colombia', 'mexico', 'argentina']}"
      ]
     },
     "execution_count": 38,
     "metadata": {},
     "output_type": "execute_result"
    }
   ],
   "source": [
    "dato"
   ]
  },
  {
   "cell_type": "code",
   "execution_count": 39,
   "metadata": {},
   "outputs": [],
   "source": [
    "data = pd.DataFrame(dato)"
   ]
  },
  {
   "cell_type": "code",
   "execution_count": 44,
   "metadata": {},
   "outputs": [
    {
     "data": {
      "text/html": [
       "<div>\n",
       "<style scoped>\n",
       "    .dataframe tbody tr th:only-of-type {\n",
       "        vertical-align: middle;\n",
       "    }\n",
       "\n",
       "    .dataframe tbody tr th {\n",
       "        vertical-align: top;\n",
       "    }\n",
       "\n",
       "    .dataframe thead th {\n",
       "        text-align: right;\n",
       "    }\n",
       "</style>\n",
       "<table border=\"1\" class=\"dataframe\">\n",
       "  <thead>\n",
       "    <tr style=\"text-align: right;\">\n",
       "      <th></th>\n",
       "      <th>frutas</th>\n",
       "      <th>masa:</th>\n",
       "      <th>pais</th>\n",
       "    </tr>\n",
       "  </thead>\n",
       "  <tbody>\n",
       "    <tr>\n",
       "      <th>0</th>\n",
       "      <td>manzana</td>\n",
       "      <td>2</td>\n",
       "      <td>peru</td>\n",
       "    </tr>\n",
       "    <tr>\n",
       "      <th>1</th>\n",
       "      <td>tomate</td>\n",
       "      <td>0.5</td>\n",
       "      <td>colombia</td>\n",
       "    </tr>\n",
       "    <tr>\n",
       "      <th>2</th>\n",
       "      <td>aguacate</td>\n",
       "      <td>1</td>\n",
       "      <td>mexico</td>\n",
       "    </tr>\n",
       "    <tr>\n",
       "      <th>3</th>\n",
       "      <td>pera</td>\n",
       "      <td>10</td>\n",
       "      <td>argentina</td>\n",
       "    </tr>\n",
       "  </tbody>\n",
       "</table>\n",
       "</div>"
      ],
      "text/plain": [
       "     frutas masa:       pais\n",
       "0   manzana     2       peru\n",
       "1    tomate   0.5   colombia\n",
       "2  aguacate     1     mexico\n",
       "3      pera    10  argentina"
      ]
     },
     "execution_count": 44,
     "metadata": {},
     "output_type": "execute_result"
    }
   ],
   "source": [
    "data"
   ]
  },
  {
   "attachments": {},
   "cell_type": "markdown",
   "metadata": {},
   "source": [
    "#cómo abrir un cvs"
   ]
  },
  {
   "cell_type": "code",
   "execution_count": 4,
   "metadata": {},
   "outputs": [],
   "source": [
    "Emisiones = pd.read_csv(\"Emisiones_CO2.csv\", sep=\"|\", encoding=\"latin1\")"
   ]
  },
  {
   "cell_type": "code",
   "execution_count": 48,
   "metadata": {},
   "outputs": [
    {
     "data": {
      "text/html": [
       "<div>\n",
       "<style scoped>\n",
       "    .dataframe tbody tr th:only-of-type {\n",
       "        vertical-align: middle;\n",
       "    }\n",
       "\n",
       "    .dataframe tbody tr th {\n",
       "        vertical-align: top;\n",
       "    }\n",
       "\n",
       "    .dataframe thead th {\n",
       "        text-align: right;\n",
       "    }\n",
       "</style>\n",
       "<table border=\"1\" class=\"dataframe\">\n",
       "  <thead>\n",
       "    <tr style=\"text-align: right;\">\n",
       "      <th></th>\n",
       "      <th>Código de país</th>\n",
       "      <th>Nombre del país</th>\n",
       "      <th>Región</th>\n",
       "      <th>Año</th>\n",
       "      <th>CO2 (kt)</th>\n",
       "      <th>CO2 per cápita (toneladas métricas)</th>\n",
       "    </tr>\n",
       "  </thead>\n",
       "  <tbody>\n",
       "    <tr>\n",
       "      <th>0</th>\n",
       "      <td>ABW</td>\n",
       "      <td>Aruba</td>\n",
       "      <td>América Latina y Caribe</td>\n",
       "      <td>1960</td>\n",
       "      <td>NaN</td>\n",
       "      <td>NaN</td>\n",
       "    </tr>\n",
       "    <tr>\n",
       "      <th>1</th>\n",
       "      <td>ABW</td>\n",
       "      <td>Aruba</td>\n",
       "      <td>América Latina y Caribe</td>\n",
       "      <td>1961</td>\n",
       "      <td>NaN</td>\n",
       "      <td>NaN</td>\n",
       "    </tr>\n",
       "    <tr>\n",
       "      <th>2</th>\n",
       "      <td>ABW</td>\n",
       "      <td>Aruba</td>\n",
       "      <td>América Latina y Caribe</td>\n",
       "      <td>1962</td>\n",
       "      <td>NaN</td>\n",
       "      <td>NaN</td>\n",
       "    </tr>\n",
       "    <tr>\n",
       "      <th>3</th>\n",
       "      <td>ABW</td>\n",
       "      <td>Aruba</td>\n",
       "      <td>América Latina y Caribe</td>\n",
       "      <td>1963</td>\n",
       "      <td>NaN</td>\n",
       "      <td>NaN</td>\n",
       "    </tr>\n",
       "    <tr>\n",
       "      <th>4</th>\n",
       "      <td>ABW</td>\n",
       "      <td>Aruba</td>\n",
       "      <td>América Latina y Caribe</td>\n",
       "      <td>1964</td>\n",
       "      <td>NaN</td>\n",
       "      <td>NaN</td>\n",
       "    </tr>\n",
       "    <tr>\n",
       "      <th>...</th>\n",
       "      <td>...</td>\n",
       "      <td>...</td>\n",
       "      <td>...</td>\n",
       "      <td>...</td>\n",
       "      <td>...</td>\n",
       "      <td>...</td>\n",
       "    </tr>\n",
       "    <tr>\n",
       "      <th>11122</th>\n",
       "      <td>ZWE</td>\n",
       "      <td>Zimbabue</td>\n",
       "      <td>África subsahariana</td>\n",
       "      <td>2007</td>\n",
       "      <td>9.732,22</td>\n",
       "      <td>0,731866885</td>\n",
       "    </tr>\n",
       "    <tr>\n",
       "      <th>11123</th>\n",
       "      <td>ZWE</td>\n",
       "      <td>Zimbabue</td>\n",
       "      <td>África subsahariana</td>\n",
       "      <td>2008</td>\n",
       "      <td>7.682,37</td>\n",
       "      <td>0,569255428</td>\n",
       "    </tr>\n",
       "    <tr>\n",
       "      <th>11124</th>\n",
       "      <td>ZWE</td>\n",
       "      <td>Zimbabue</td>\n",
       "      <td>África subsahariana</td>\n",
       "      <td>2009</td>\n",
       "      <td>8.239,75</td>\n",
       "      <td>0,600521157</td>\n",
       "    </tr>\n",
       "    <tr>\n",
       "      <th>11125</th>\n",
       "      <td>ZWE</td>\n",
       "      <td>Zimbabue</td>\n",
       "      <td>África subsahariana</td>\n",
       "      <td>2010</td>\n",
       "      <td>9.028,15</td>\n",
       "      <td>0,646072745</td>\n",
       "    </tr>\n",
       "    <tr>\n",
       "      <th>11126</th>\n",
       "      <td>ZWE</td>\n",
       "      <td>Zimbabue</td>\n",
       "      <td>África subsahariana</td>\n",
       "      <td>2011</td>\n",
       "      <td>9.860,56</td>\n",
       "      <td>0,691697897</td>\n",
       "    </tr>\n",
       "  </tbody>\n",
       "</table>\n",
       "<p>11127 rows × 6 columns</p>\n",
       "</div>"
      ],
      "text/plain": [
       "      Código de país Nombre del país                   Región   Año  CO2 (kt)  \\\n",
       "0                ABW           Aruba  América Latina y Caribe  1960       NaN   \n",
       "1                ABW           Aruba  América Latina y Caribe  1961       NaN   \n",
       "2                ABW           Aruba  América Latina y Caribe  1962       NaN   \n",
       "3                ABW           Aruba  América Latina y Caribe  1963       NaN   \n",
       "4                ABW           Aruba  América Latina y Caribe  1964       NaN   \n",
       "...              ...             ...                      ...   ...       ...   \n",
       "11122            ZWE        Zimbabue      África subsahariana  2007  9.732,22   \n",
       "11123            ZWE        Zimbabue      África subsahariana  2008  7.682,37   \n",
       "11124            ZWE        Zimbabue      África subsahariana  2009  8.239,75   \n",
       "11125            ZWE        Zimbabue      África subsahariana  2010  9.028,15   \n",
       "11126            ZWE        Zimbabue      África subsahariana  2011  9.860,56   \n",
       "\n",
       "      CO2 per cápita (toneladas métricas)  \n",
       "0                                     NaN  \n",
       "1                                     NaN  \n",
       "2                                     NaN  \n",
       "3                                     NaN  \n",
       "4                                     NaN  \n",
       "...                                   ...  \n",
       "11122                         0,731866885  \n",
       "11123                         0,569255428  \n",
       "11124                         0,600521157  \n",
       "11125                         0,646072745  \n",
       "11126                         0,691697897  \n",
       "\n",
       "[11127 rows x 6 columns]"
      ]
     },
     "execution_count": 48,
     "metadata": {},
     "output_type": "execute_result"
    }
   ],
   "source": [
    "Emisiones"
   ]
  },
  {
   "cell_type": "code",
   "execution_count": 6,
   "metadata": {},
   "outputs": [
    {
     "data": {
      "text/plain": [
       "1986    214\n",
       "1961    214\n",
       "1988    214\n",
       "1989    214\n",
       "1990    214\n",
       "1991    214\n",
       "1992    214\n",
       "1993    214\n",
       "1994    214\n",
       "1995    214\n",
       "1996    214\n",
       "1997    214\n",
       "1998    214\n",
       "1999    214\n",
       "2000    214\n",
       "2001    214\n",
       "2002    214\n",
       "2003    214\n",
       "2004    214\n",
       "2005    214\n",
       "2006    214\n",
       "2007    214\n",
       "2008    214\n",
       "2009    214\n",
       "2010    214\n",
       "1987    214\n",
       "2011    214\n",
       "1985    214\n",
       "1972    214\n",
       "1962    214\n",
       "1963    214\n",
       "1964    214\n",
       "1965    214\n",
       "1966    214\n",
       "1967    214\n",
       "1968    214\n",
       "1969    214\n",
       "1970    214\n",
       "1971    214\n",
       "1973    214\n",
       "1984    214\n",
       "1974    214\n",
       "1975    214\n",
       "1976    214\n",
       "1977    214\n",
       "1978    214\n",
       "1979    214\n",
       "1980    214\n",
       "1981    214\n",
       "1982    214\n",
       "1983    214\n",
       "1960    213\n",
       "Name: Año, dtype: int64"
      ]
     },
     "execution_count": 6,
     "metadata": {},
     "output_type": "execute_result"
    }
   ],
   "source": [
    "Emisiones[\"Año\"].value_counts()"
   ]
  },
  {
   "cell_type": "code",
   "execution_count": null,
   "metadata": {},
   "outputs": [],
   "source": [
    "#si queiro trabajar con un archivo de excel\n",
    "datos_1 = pd.read_excel(\"prueba/henry.xlsx\")"
   ]
  },
  {
   "cell_type": "code",
   "execution_count": 7,
   "metadata": {},
   "outputs": [],
   "source": [
    "#Paara transformar el dataframe a csv\n",
    "Emisiones.to_csv(\"salida.csv\",index=False) #el index=False es para que no me saque los indices"
   ]
  },
  {
   "cell_type": "code",
   "execution_count": 8,
   "metadata": {},
   "outputs": [
    {
     "data": {
      "text/plain": [
       "Código de país                                             ABW\n",
       "Nombre del país                                          Aruba\n",
       "Región                                 América Latina y Caribe\n",
       "Año                                                       1961\n",
       "CO2 (kt)                                                   NaN\n",
       "CO2 per cápita (toneladas métricas)                        NaN\n",
       "Name: 1, dtype: object"
      ]
     },
     "execution_count": 8,
     "metadata": {},
     "output_type": "execute_result"
    }
   ],
   "source": [
    "#Como acceder a algun elemento del dataframe\n",
    "#loc es de localization\n",
    "Emisiones.iloc[1]   #ingreso el # de indice al que quiero acceder"
   ]
  },
  {
   "cell_type": "code",
   "execution_count": 9,
   "metadata": {},
   "outputs": [
    {
     "data": {
      "text/html": [
       "<div>\n",
       "<style scoped>\n",
       "    .dataframe tbody tr th:only-of-type {\n",
       "        vertical-align: middle;\n",
       "    }\n",
       "\n",
       "    .dataframe tbody tr th {\n",
       "        vertical-align: top;\n",
       "    }\n",
       "\n",
       "    .dataframe thead th {\n",
       "        text-align: right;\n",
       "    }\n",
       "</style>\n",
       "<table border=\"1\" class=\"dataframe\">\n",
       "  <thead>\n",
       "    <tr style=\"text-align: right;\">\n",
       "      <th></th>\n",
       "      <th>Código de país</th>\n",
       "      <th>Nombre del país</th>\n",
       "      <th>Región</th>\n",
       "      <th>Año</th>\n",
       "      <th>CO2 (kt)</th>\n",
       "      <th>CO2 per cápita (toneladas métricas)</th>\n",
       "    </tr>\n",
       "  </thead>\n",
       "  <tbody>\n",
       "    <tr>\n",
       "      <th>1</th>\n",
       "      <td>ABW</td>\n",
       "      <td>Aruba</td>\n",
       "      <td>América Latina y Caribe</td>\n",
       "      <td>1961</td>\n",
       "      <td>NaN</td>\n",
       "      <td>NaN</td>\n",
       "    </tr>\n",
       "    <tr>\n",
       "      <th>2</th>\n",
       "      <td>ABW</td>\n",
       "      <td>Aruba</td>\n",
       "      <td>América Latina y Caribe</td>\n",
       "      <td>1962</td>\n",
       "      <td>NaN</td>\n",
       "      <td>NaN</td>\n",
       "    </tr>\n",
       "    <tr>\n",
       "      <th>3</th>\n",
       "      <td>ABW</td>\n",
       "      <td>Aruba</td>\n",
       "      <td>América Latina y Caribe</td>\n",
       "      <td>1963</td>\n",
       "      <td>NaN</td>\n",
       "      <td>NaN</td>\n",
       "    </tr>\n",
       "    <tr>\n",
       "      <th>4</th>\n",
       "      <td>ABW</td>\n",
       "      <td>Aruba</td>\n",
       "      <td>América Latina y Caribe</td>\n",
       "      <td>1964</td>\n",
       "      <td>NaN</td>\n",
       "      <td>NaN</td>\n",
       "    </tr>\n",
       "    <tr>\n",
       "      <th>5</th>\n",
       "      <td>ABW</td>\n",
       "      <td>Aruba</td>\n",
       "      <td>América Latina y Caribe</td>\n",
       "      <td>1965</td>\n",
       "      <td>NaN</td>\n",
       "      <td>NaN</td>\n",
       "    </tr>\n",
       "    <tr>\n",
       "      <th>6</th>\n",
       "      <td>ABW</td>\n",
       "      <td>Aruba</td>\n",
       "      <td>América Latina y Caribe</td>\n",
       "      <td>1966</td>\n",
       "      <td>NaN</td>\n",
       "      <td>NaN</td>\n",
       "    </tr>\n",
       "    <tr>\n",
       "      <th>7</th>\n",
       "      <td>ABW</td>\n",
       "      <td>Aruba</td>\n",
       "      <td>América Latina y Caribe</td>\n",
       "      <td>1967</td>\n",
       "      <td>NaN</td>\n",
       "      <td>NaN</td>\n",
       "    </tr>\n",
       "    <tr>\n",
       "      <th>8</th>\n",
       "      <td>ABW</td>\n",
       "      <td>Aruba</td>\n",
       "      <td>América Latina y Caribe</td>\n",
       "      <td>1968</td>\n",
       "      <td>NaN</td>\n",
       "      <td>NaN</td>\n",
       "    </tr>\n",
       "    <tr>\n",
       "      <th>9</th>\n",
       "      <td>ABW</td>\n",
       "      <td>Aruba</td>\n",
       "      <td>América Latina y Caribe</td>\n",
       "      <td>1969</td>\n",
       "      <td>NaN</td>\n",
       "      <td>NaN</td>\n",
       "    </tr>\n",
       "  </tbody>\n",
       "</table>\n",
       "</div>"
      ],
      "text/plain": [
       "  Código de país Nombre del país                   Región   Año CO2 (kt)  \\\n",
       "1            ABW           Aruba  América Latina y Caribe  1961      NaN   \n",
       "2            ABW           Aruba  América Latina y Caribe  1962      NaN   \n",
       "3            ABW           Aruba  América Latina y Caribe  1963      NaN   \n",
       "4            ABW           Aruba  América Latina y Caribe  1964      NaN   \n",
       "5            ABW           Aruba  América Latina y Caribe  1965      NaN   \n",
       "6            ABW           Aruba  América Latina y Caribe  1966      NaN   \n",
       "7            ABW           Aruba  América Latina y Caribe  1967      NaN   \n",
       "8            ABW           Aruba  América Latina y Caribe  1968      NaN   \n",
       "9            ABW           Aruba  América Latina y Caribe  1969      NaN   \n",
       "\n",
       "  CO2 per cápita (toneladas métricas)  \n",
       "1                                 NaN  \n",
       "2                                 NaN  \n",
       "3                                 NaN  \n",
       "4                                 NaN  \n",
       "5                                 NaN  \n",
       "6                                 NaN  \n",
       "7                                 NaN  \n",
       "8                                 NaN  \n",
       "9                                 NaN  "
      ]
     },
     "execution_count": 9,
     "metadata": {},
     "output_type": "execute_result"
    }
   ],
   "source": [
    "Emisiones.iloc[1:10]"
   ]
  },
  {
   "cell_type": "code",
   "execution_count": 10,
   "metadata": {},
   "outputs": [
    {
     "data": {
      "text/html": [
       "<div>\n",
       "<style scoped>\n",
       "    .dataframe tbody tr th:only-of-type {\n",
       "        vertical-align: middle;\n",
       "    }\n",
       "\n",
       "    .dataframe tbody tr th {\n",
       "        vertical-align: top;\n",
       "    }\n",
       "\n",
       "    .dataframe thead th {\n",
       "        text-align: right;\n",
       "    }\n",
       "</style>\n",
       "<table border=\"1\" class=\"dataframe\">\n",
       "  <thead>\n",
       "    <tr style=\"text-align: right;\">\n",
       "      <th></th>\n",
       "      <th>Nombre del país</th>\n",
       "      <th>Región</th>\n",
       "      <th>Año</th>\n",
       "    </tr>\n",
       "  </thead>\n",
       "  <tbody>\n",
       "    <tr>\n",
       "      <th>2000</th>\n",
       "      <td>Camerún</td>\n",
       "      <td>África subsahariana</td>\n",
       "      <td>1984</td>\n",
       "    </tr>\n",
       "    <tr>\n",
       "      <th>2001</th>\n",
       "      <td>Camerún</td>\n",
       "      <td>África subsahariana</td>\n",
       "      <td>1985</td>\n",
       "    </tr>\n",
       "    <tr>\n",
       "      <th>2002</th>\n",
       "      <td>Camerún</td>\n",
       "      <td>África subsahariana</td>\n",
       "      <td>1986</td>\n",
       "    </tr>\n",
       "    <tr>\n",
       "      <th>2003</th>\n",
       "      <td>Camerún</td>\n",
       "      <td>África subsahariana</td>\n",
       "      <td>1987</td>\n",
       "    </tr>\n",
       "    <tr>\n",
       "      <th>2004</th>\n",
       "      <td>Camerún</td>\n",
       "      <td>África subsahariana</td>\n",
       "      <td>1988</td>\n",
       "    </tr>\n",
       "    <tr>\n",
       "      <th>2005</th>\n",
       "      <td>Camerún</td>\n",
       "      <td>África subsahariana</td>\n",
       "      <td>1989</td>\n",
       "    </tr>\n",
       "    <tr>\n",
       "      <th>2006</th>\n",
       "      <td>Camerún</td>\n",
       "      <td>África subsahariana</td>\n",
       "      <td>1990</td>\n",
       "    </tr>\n",
       "    <tr>\n",
       "      <th>2007</th>\n",
       "      <td>Camerún</td>\n",
       "      <td>África subsahariana</td>\n",
       "      <td>1991</td>\n",
       "    </tr>\n",
       "    <tr>\n",
       "      <th>2008</th>\n",
       "      <td>Camerún</td>\n",
       "      <td>África subsahariana</td>\n",
       "      <td>1992</td>\n",
       "    </tr>\n",
       "    <tr>\n",
       "      <th>2009</th>\n",
       "      <td>Camerún</td>\n",
       "      <td>África subsahariana</td>\n",
       "      <td>1993</td>\n",
       "    </tr>\n",
       "    <tr>\n",
       "      <th>2010</th>\n",
       "      <td>Camerún</td>\n",
       "      <td>África subsahariana</td>\n",
       "      <td>1994</td>\n",
       "    </tr>\n",
       "    <tr>\n",
       "      <th>2011</th>\n",
       "      <td>Camerún</td>\n",
       "      <td>África subsahariana</td>\n",
       "      <td>1995</td>\n",
       "    </tr>\n",
       "    <tr>\n",
       "      <th>2012</th>\n",
       "      <td>Camerún</td>\n",
       "      <td>África subsahariana</td>\n",
       "      <td>1996</td>\n",
       "    </tr>\n",
       "    <tr>\n",
       "      <th>2013</th>\n",
       "      <td>Camerún</td>\n",
       "      <td>África subsahariana</td>\n",
       "      <td>1997</td>\n",
       "    </tr>\n",
       "    <tr>\n",
       "      <th>2014</th>\n",
       "      <td>Camerún</td>\n",
       "      <td>África subsahariana</td>\n",
       "      <td>1998</td>\n",
       "    </tr>\n",
       "    <tr>\n",
       "      <th>2015</th>\n",
       "      <td>Camerún</td>\n",
       "      <td>África subsahariana</td>\n",
       "      <td>1999</td>\n",
       "    </tr>\n",
       "    <tr>\n",
       "      <th>2016</th>\n",
       "      <td>Camerún</td>\n",
       "      <td>África subsahariana</td>\n",
       "      <td>2000</td>\n",
       "    </tr>\n",
       "    <tr>\n",
       "      <th>2017</th>\n",
       "      <td>Camerún</td>\n",
       "      <td>África subsahariana</td>\n",
       "      <td>2001</td>\n",
       "    </tr>\n",
       "    <tr>\n",
       "      <th>2018</th>\n",
       "      <td>Camerún</td>\n",
       "      <td>África subsahariana</td>\n",
       "      <td>2002</td>\n",
       "    </tr>\n",
       "    <tr>\n",
       "      <th>2019</th>\n",
       "      <td>Camerún</td>\n",
       "      <td>África subsahariana</td>\n",
       "      <td>2003</td>\n",
       "    </tr>\n",
       "  </tbody>\n",
       "</table>\n",
       "</div>"
      ],
      "text/plain": [
       "     Nombre del país               Región   Año\n",
       "2000         Camerún  África subsahariana  1984\n",
       "2001         Camerún  África subsahariana  1985\n",
       "2002         Camerún  África subsahariana  1986\n",
       "2003         Camerún  África subsahariana  1987\n",
       "2004         Camerún  África subsahariana  1988\n",
       "2005         Camerún  África subsahariana  1989\n",
       "2006         Camerún  África subsahariana  1990\n",
       "2007         Camerún  África subsahariana  1991\n",
       "2008         Camerún  África subsahariana  1992\n",
       "2009         Camerún  África subsahariana  1993\n",
       "2010         Camerún  África subsahariana  1994\n",
       "2011         Camerún  África subsahariana  1995\n",
       "2012         Camerún  África subsahariana  1996\n",
       "2013         Camerún  África subsahariana  1997\n",
       "2014         Camerún  África subsahariana  1998\n",
       "2015         Camerún  África subsahariana  1999\n",
       "2016         Camerún  África subsahariana  2000\n",
       "2017         Camerún  África subsahariana  2001\n",
       "2018         Camerún  África subsahariana  2002\n",
       "2019         Camerún  África subsahariana  2003"
      ]
     },
     "execution_count": 10,
     "metadata": {},
     "output_type": "execute_result"
    }
   ],
   "source": [
    "#si quiere seccionar algunas columnas\n",
    "Emisiones.iloc[2000:2020 ,1:4]"
   ]
  },
  {
   "cell_type": "code",
   "execution_count": 11,
   "metadata": {},
   "outputs": [],
   "source": [
    "anio = Emisiones[\"Año\"]"
   ]
  },
  {
   "cell_type": "code",
   "execution_count": 12,
   "metadata": {},
   "outputs": [],
   "source": [
    "conteo = 0\n",
    "for i in range(len(anio)):\n",
    "    conteo += anio.iloc[i]"
   ]
  },
  {
   "cell_type": "code",
   "execution_count": 13,
   "metadata": {},
   "outputs": [
    {
     "data": {
      "text/plain": [
       "22092684"
      ]
     },
     "execution_count": 13,
     "metadata": {},
     "output_type": "execute_result"
    }
   ],
   "source": [
    "conteo"
   ]
  },
  {
   "cell_type": "code",
   "execution_count": 14,
   "metadata": {},
   "outputs": [
    {
     "data": {
      "text/plain": [
       "22092684"
      ]
     },
     "execution_count": 14,
     "metadata": {},
     "output_type": "execute_result"
    }
   ],
   "source": [
    "#forma más costa de hacer lo de arriba gracias a pandas\n",
    "anio.sum()"
   ]
  },
  {
   "cell_type": "code",
   "execution_count": null,
   "metadata": {},
   "outputs": [],
   "source": [
    "#para cambiar un elemento de la dataframe\n",
    "Emisiones.loc[1,\"Código de país\"] = \"Hola\""
   ]
  }
 ],
 "metadata": {
  "kernelspec": {
   "display_name": "Python 3",
   "language": "python",
   "name": "python3"
  },
  "language_info": {
   "codemirror_mode": {
    "name": "ipython",
    "version": 3
   },
   "file_extension": ".py",
   "mimetype": "text/x-python",
   "name": "python",
   "nbconvert_exporter": "python",
   "pygments_lexer": "ipython3",
   "version": "3.10.10"
  },
  "orig_nbformat": 4,
  "vscode": {
   "interpreter": {
    "hash": "2d54e570767e6207f53570bb56a4a95ab889c5c399d802a23d4f934feb2ea66f"
   }
  }
 },
 "nbformat": 4,
 "nbformat_minor": 2
}
