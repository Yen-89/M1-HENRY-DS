{
 "cells": [
  {
   "cell_type": "code",
   "execution_count": 1,
   "metadata": {},
   "outputs": [],
   "source": [
    "import pandas as pd"
   ]
  },
  {
   "cell_type": "code",
   "execution_count": 2,
   "metadata": {},
   "outputs": [],
   "source": [
    "data = pd.read_csv(\"hospitales2.csv\")"
   ]
  },
  {
   "cell_type": "code",
   "execution_count": 4,
   "metadata": {},
   "outputs": [
    {
     "data": {
      "text/html": [
       "<div>\n",
       "<style scoped>\n",
       "    .dataframe tbody tr th:only-of-type {\n",
       "        vertical-align: middle;\n",
       "    }\n",
       "\n",
       "    .dataframe tbody tr th {\n",
       "        vertical-align: top;\n",
       "    }\n",
       "\n",
       "    .dataframe thead th {\n",
       "        text-align: right;\n",
       "    }\n",
       "</style>\n",
       "<table border=\"1\" class=\"dataframe\">\n",
       "  <thead>\n",
       "    <tr style=\"text-align: right;\">\n",
       "      <th></th>\n",
       "      <th>WKT</th>\n",
       "      <th>ID</th>\n",
       "      <th>NOMBRE</th>\n",
       "      <th>NOM_MAP</th>\n",
       "      <th>OBJETO</th>\n",
       "      <th>CALLE</th>\n",
       "      <th>ALTURA</th>\n",
       "      <th>DOM_NORMA</th>\n",
       "      <th>DOM_GEO</th>\n",
       "      <th>TELEFONO</th>\n",
       "      <th>GUARDIA</th>\n",
       "      <th>FAX</th>\n",
       "      <th>WEB</th>\n",
       "      <th>COD_POSTAL</th>\n",
       "      <th>TIPO</th>\n",
       "      <th>TIPO_ESPEC</th>\n",
       "      <th>MOD_AT_1</th>\n",
       "      <th>MOD_AT_2</th>\n",
       "      <th>DEPEND_ADM</th>\n",
       "      <th>DIRECTOR</th>\n",
       "    </tr>\n",
       "  </thead>\n",
       "  <tbody>\n",
       "    <tr>\n",
       "      <th>0</th>\n",
       "      <td>POINT (-58.3775508488443 -34.6288473603881)</td>\n",
       "      <td>1.0</td>\n",
       "      <td>HOSPITAL GENERAL DE NIÑOS PEDRO DE ELIZALDE</td>\n",
       "      <td>HOSP. DE ELIZALDE</td>\n",
       "      <td>HOSPITAL</td>\n",
       "      <td>MANUEL A. MONTES DE OCA</td>\n",
       "      <td>40</td>\n",
       "      <td>MONTES DE OCA, MANUEL AV. 40</td>\n",
       "      <td>40 MONTES DE OCA, MANUEL AV.</td>\n",
       "      <td>4307-5842 / 5844</td>\n",
       "      <td>4307-5442 / 4300-1700</td>\n",
       "      <td>4302-7400</td>\n",
       "      <td>www.elizalde.gov.ar</td>\n",
       "      <td>C1270AAN</td>\n",
       "      <td>Hospital de niños</td>\n",
       "      <td>PEDIATRIA</td>\n",
       "      <td>AT. AMB./INTERNACION</td>\n",
       "      <td>DIAG./TRATAM.</td>\n",
       "      <td>Ministerio de Salud GCBA</td>\n",
       "      <td>Dr. Javier Indart</td>\n",
       "    </tr>\n",
       "    <tr>\n",
       "      <th>1</th>\n",
       "      <td>POINT (-58.4120700769456 -34.5941919726393)</td>\n",
       "      <td>2.0</td>\n",
       "      <td>HOSPITAL GENERAL DE NIÑOS RICARDO GUTIERREZ</td>\n",
       "      <td>HOSP. GUTIERREZ</td>\n",
       "      <td>HOSPITAL</td>\n",
       "      <td>GALLO</td>\n",
       "      <td>1330</td>\n",
       "      <td>GALLO 1330</td>\n",
       "      <td>1330 GALLO</td>\n",
       "      <td>4962-9247 / 9248 / 9280</td>\n",
       "      <td>4962-9232</td>\n",
       "      <td>4962-3762</td>\n",
       "      <td>www.guti.gov.ar</td>\n",
       "      <td>C1425EFD</td>\n",
       "      <td>Hospital de niños</td>\n",
       "      <td>PEDIATRIA</td>\n",
       "      <td>AT. AMB./INTERNACION</td>\n",
       "      <td>DIAG./TRATAM.</td>\n",
       "      <td>Ministerio de Salud GCBA</td>\n",
       "      <td>Dra. María Cristina Galoppo</td>\n",
       "    </tr>\n",
       "    <tr>\n",
       "      <th>2</th>\n",
       "      <td>POINT (-58.4027276547828 -34.5845283357505)</td>\n",
       "      <td>4.0</td>\n",
       "      <td>HOSPITAL DE ODONTOLOGIA DR. RAMON CARRILLO (EX...</td>\n",
       "      <td>HOSP. ODONTOLOGICO CARRILLO</td>\n",
       "      <td>HOSPITAL</td>\n",
       "      <td>SANCHEZ DE BUSTAMANTE</td>\n",
       "      <td>2529</td>\n",
       "      <td>SANCHEZ DE BUSTAMANTE 2529</td>\n",
       "      <td>2529 SANCHEZ DE BUSTAMANTE</td>\n",
       "      <td>4805-5521 / 7533</td>\n",
       "      <td>4805-6407</td>\n",
       "      <td>4805-7533</td>\n",
       "      <td>NaN</td>\n",
       "      <td>C1425DUY</td>\n",
       "      <td>Hospital especializado</td>\n",
       "      <td>ODONTOLOGIA</td>\n",
       "      <td>AT. AMBULATORIA</td>\n",
       "      <td>DIAG./TRATAM.</td>\n",
       "      <td>Ministerio de Salud GCBA</td>\n",
       "      <td>Dra. Susana Rita Lisanti</td>\n",
       "    </tr>\n",
       "    <tr>\n",
       "      <th>3</th>\n",
       "      <td>POINT (-58.3851559118889 -34.6394041316484)</td>\n",
       "      <td>6.0</td>\n",
       "      <td>HOSPITAL DE SALUD MENTAL BRAULIO MOYANO</td>\n",
       "      <td>HOSP. MOYANO</td>\n",
       "      <td>HOSPITAL</td>\n",
       "      <td>BRANDSEN</td>\n",
       "      <td>2570</td>\n",
       "      <td>BRANDSEN 2570</td>\n",
       "      <td>2570 BRANDSEN</td>\n",
       "      <td>4301-3655 / 3659</td>\n",
       "      <td>4301-4522</td>\n",
       "      <td>4303-3655/59</td>\n",
       "      <td>www.moyano.org.ar</td>\n",
       "      <td>C1287ABJ</td>\n",
       "      <td>Hospital especializado</td>\n",
       "      <td>SALUD MENTAL</td>\n",
       "      <td>AT. AMB./INTERNACION</td>\n",
       "      <td>DIAG./TRATAM.</td>\n",
       "      <td>Ministerio de Salud GCBA</td>\n",
       "      <td>Dra. Norma Derito</td>\n",
       "    </tr>\n",
       "    <tr>\n",
       "      <th>4</th>\n",
       "      <td>POINT (-58.3913114406535 -34.6341535760002)</td>\n",
       "      <td>7.0</td>\n",
       "      <td>HOSPITAL DE GASTROENTEROLOGIA B. UDAONDO</td>\n",
       "      <td>HOSP. UDAONDO</td>\n",
       "      <td>HOSPITAL</td>\n",
       "      <td>CASEROS</td>\n",
       "      <td>2061</td>\n",
       "      <td>CASEROS AV. 2061</td>\n",
       "      <td>2061 CASEROS AV.</td>\n",
       "      <td>4306-4641 al 4649</td>\n",
       "      <td>4306-4641 al 49 (int. 125)</td>\n",
       "      <td>4306-3013</td>\n",
       "      <td>NaN</td>\n",
       "      <td>C1264AAA</td>\n",
       "      <td>Hospital especializado</td>\n",
       "      <td>ENF. APAR. DIGESTIVO</td>\n",
       "      <td>AT. AMB./INTERNACION</td>\n",
       "      <td>DIAG./TRATAM.</td>\n",
       "      <td>Ministerio de Salud GCBA</td>\n",
       "      <td>Dr. Eduardo Gustavo Sosa</td>\n",
       "    </tr>\n",
       "  </tbody>\n",
       "</table>\n",
       "</div>"
      ],
      "text/plain": [
       "                                           WKT   ID  \\\n",
       "0  POINT (-58.3775508488443 -34.6288473603881)  1.0   \n",
       "1  POINT (-58.4120700769456 -34.5941919726393)  2.0   \n",
       "2  POINT (-58.4027276547828 -34.5845283357505)  4.0   \n",
       "3  POINT (-58.3851559118889 -34.6394041316484)  6.0   \n",
       "4  POINT (-58.3913114406535 -34.6341535760002)  7.0   \n",
       "\n",
       "                                              NOMBRE  \\\n",
       "0        HOSPITAL GENERAL DE NIÑOS PEDRO DE ELIZALDE   \n",
       "1        HOSPITAL GENERAL DE NIÑOS RICARDO GUTIERREZ   \n",
       "2  HOSPITAL DE ODONTOLOGIA DR. RAMON CARRILLO (EX...   \n",
       "3            HOSPITAL DE SALUD MENTAL BRAULIO MOYANO   \n",
       "4           HOSPITAL DE GASTROENTEROLOGIA B. UDAONDO   \n",
       "\n",
       "                       NOM_MAP    OBJETO                    CALLE  ALTURA  \\\n",
       "0            HOSP. DE ELIZALDE  HOSPITAL  MANUEL A. MONTES DE OCA      40   \n",
       "1              HOSP. GUTIERREZ  HOSPITAL                    GALLO    1330   \n",
       "2  HOSP. ODONTOLOGICO CARRILLO  HOSPITAL    SANCHEZ DE BUSTAMANTE    2529   \n",
       "3                 HOSP. MOYANO  HOSPITAL                 BRANDSEN    2570   \n",
       "4                HOSP. UDAONDO  HOSPITAL                  CASEROS    2061   \n",
       "\n",
       "                      DOM_NORMA                       DOM_GEO  \\\n",
       "0  MONTES DE OCA, MANUEL AV. 40  40 MONTES DE OCA, MANUEL AV.   \n",
       "1                    GALLO 1330                    1330 GALLO   \n",
       "2    SANCHEZ DE BUSTAMANTE 2529    2529 SANCHEZ DE BUSTAMANTE   \n",
       "3                 BRANDSEN 2570                 2570 BRANDSEN   \n",
       "4              CASEROS AV. 2061              2061 CASEROS AV.   \n",
       "\n",
       "                  TELEFONO                     GUARDIA           FAX  \\\n",
       "0         4307-5842 / 5844       4307-5442 / 4300-1700     4302-7400   \n",
       "1  4962-9247 / 9248 / 9280                   4962-9232     4962-3762   \n",
       "2         4805-5521 / 7533                   4805-6407     4805-7533   \n",
       "3         4301-3655 / 3659                   4301-4522  4303-3655/59   \n",
       "4        4306-4641 al 4649  4306-4641 al 49 (int. 125)     4306-3013   \n",
       "\n",
       "                   WEB COD_POSTAL                    TIPO  \\\n",
       "0  www.elizalde.gov.ar   C1270AAN       Hospital de niños   \n",
       "1      www.guti.gov.ar   C1425EFD       Hospital de niños   \n",
       "2                  NaN   C1425DUY  Hospital especializado   \n",
       "3    www.moyano.org.ar   C1287ABJ  Hospital especializado   \n",
       "4                  NaN   C1264AAA  Hospital especializado   \n",
       "\n",
       "             TIPO_ESPEC              MOD_AT_1       MOD_AT_2  \\\n",
       "0             PEDIATRIA  AT. AMB./INTERNACION  DIAG./TRATAM.   \n",
       "1             PEDIATRIA  AT. AMB./INTERNACION  DIAG./TRATAM.   \n",
       "2           ODONTOLOGIA       AT. AMBULATORIA  DIAG./TRATAM.   \n",
       "3          SALUD MENTAL  AT. AMB./INTERNACION  DIAG./TRATAM.   \n",
       "4  ENF. APAR. DIGESTIVO  AT. AMB./INTERNACION  DIAG./TRATAM.   \n",
       "\n",
       "                 DEPEND_ADM                     DIRECTOR  \n",
       "0  Ministerio de Salud GCBA            Dr. Javier Indart  \n",
       "1  Ministerio de Salud GCBA  Dra. María Cristina Galoppo  \n",
       "2  Ministerio de Salud GCBA     Dra. Susana Rita Lisanti  \n",
       "3  Ministerio de Salud GCBA            Dra. Norma Derito  \n",
       "4  Ministerio de Salud GCBA     Dr. Eduardo Gustavo Sosa  "
      ]
     },
     "execution_count": 4,
     "metadata": {},
     "output_type": "execute_result"
    }
   ],
   "source": [
    "data.head()   #verifico que si quedó descargado el cvs y con .head em muestra la cabecera del csv"
   ]
  },
  {
   "cell_type": "code",
   "execution_count": 5,
   "metadata": {},
   "outputs": [
    {
     "data": {
      "text/html": [
       "<div>\n",
       "<style scoped>\n",
       "    .dataframe tbody tr th:only-of-type {\n",
       "        vertical-align: middle;\n",
       "    }\n",
       "\n",
       "    .dataframe tbody tr th {\n",
       "        vertical-align: top;\n",
       "    }\n",
       "\n",
       "    .dataframe thead th {\n",
       "        text-align: right;\n",
       "    }\n",
       "</style>\n",
       "<table border=\"1\" class=\"dataframe\">\n",
       "  <thead>\n",
       "    <tr style=\"text-align: right;\">\n",
       "      <th></th>\n",
       "      <th>WKT</th>\n",
       "      <th>ID</th>\n",
       "      <th>NOMBRE</th>\n",
       "      <th>NOM_MAP</th>\n",
       "      <th>OBJETO</th>\n",
       "      <th>CALLE</th>\n",
       "      <th>ALTURA</th>\n",
       "      <th>DOM_NORMA</th>\n",
       "      <th>DOM_GEO</th>\n",
       "      <th>TELEFONO</th>\n",
       "      <th>GUARDIA</th>\n",
       "      <th>FAX</th>\n",
       "      <th>WEB</th>\n",
       "      <th>COD_POSTAL</th>\n",
       "      <th>TIPO</th>\n",
       "      <th>TIPO_ESPEC</th>\n",
       "      <th>MOD_AT_1</th>\n",
       "      <th>MOD_AT_2</th>\n",
       "      <th>DEPEND_ADM</th>\n",
       "      <th>DIRECTOR</th>\n",
       "    </tr>\n",
       "  </thead>\n",
       "  <tbody>\n",
       "    <tr>\n",
       "      <th>31</th>\n",
       "      <td>POINT (-58.4710976282168 -34.5873917690227)</td>\n",
       "      <td>34.0</td>\n",
       "      <td>HOSPITAL GENERAL DE AGUDOS DR. E. TORNU</td>\n",
       "      <td>HOSP. TORNU</td>\n",
       "      <td>HOSPITAL</td>\n",
       "      <td>COMBATIENTES DE MALVINAS</td>\n",
       "      <td>3002</td>\n",
       "      <td>COMBATIENTES DE MALVINAS AV. 3002</td>\n",
       "      <td>3002 COMBATIENTES DE MALVINAS AV.</td>\n",
       "      <td>4521-3600 / 1236 / 8700</td>\n",
       "      <td>4521-6666</td>\n",
       "      <td>4521-6677</td>\n",
       "      <td>NaN</td>\n",
       "      <td>C1427ARN</td>\n",
       "      <td>Hospital de agudos</td>\n",
       "      <td>GRAL: BAS/CRIT/OTR</td>\n",
       "      <td>AT. AMB./INTERNACION</td>\n",
       "      <td>DIAG./TRATAM.</td>\n",
       "      <td>Ministerio de Salud GCBA</td>\n",
       "      <td>Dr. Luis Eduardo Castañiza</td>\n",
       "    </tr>\n",
       "    <tr>\n",
       "      <th>32</th>\n",
       "      <td>POINT (-58.4541167814714 -34.643894071866)</td>\n",
       "      <td>35.0</td>\n",
       "      <td>HOSPITAL GENERAL DE AGUDOS P. PIÑERO</td>\n",
       "      <td>HOSP. PIÑERO</td>\n",
       "      <td>HOSPITAL</td>\n",
       "      <td>VARELA</td>\n",
       "      <td>1301</td>\n",
       "      <td>VARELA AV. 1301</td>\n",
       "      <td>1301 VARELA AV.</td>\n",
       "      <td>4631-8100 / 0526</td>\n",
       "      <td>4631-8601</td>\n",
       "      <td>4632-8626</td>\n",
       "      <td>NaN</td>\n",
       "      <td>C1406ELA</td>\n",
       "      <td>Hospital de agudos</td>\n",
       "      <td>GRAL: BAS/CRIT/OTR</td>\n",
       "      <td>AT. AMB./INTERNACION</td>\n",
       "      <td>DIAG./TRATAM.</td>\n",
       "      <td>Ministerio de Salud GCBA</td>\n",
       "      <td>Dr. Rivero Marino Daniel</td>\n",
       "    </tr>\n",
       "    <tr>\n",
       "      <th>33</th>\n",
       "      <td>POINT (-58.4566428491103 -34.6718480140772)</td>\n",
       "      <td>36.0</td>\n",
       "      <td>HOSPITAL CECILIA GRIERSON</td>\n",
       "      <td>HOSP. GRIERSON</td>\n",
       "      <td>HOSPITAL</td>\n",
       "      <td>FERNANDEZ DE LA CRUZ, F., GRAL. AV. 4402</td>\n",
       "      <td>4402</td>\n",
       "      <td>FERNANDEZ DE LA CRUZ, F., GRAL. 4402</td>\n",
       "      <td>4402 FERNANDEZ DE LA CRUZ, F., GRAL.</td>\n",
       "      <td>4604-9000</td>\n",
       "      <td>NaN</td>\n",
       "      <td>NaN</td>\n",
       "      <td>NaN</td>\n",
       "      <td>C1439CNU</td>\n",
       "      <td>Hospital de agudos</td>\n",
       "      <td>NaN</td>\n",
       "      <td>NaN</td>\n",
       "      <td>NaN</td>\n",
       "      <td>Ministerio de Salud GCBA</td>\n",
       "      <td>Dr. Luis Giardino</td>\n",
       "    </tr>\n",
       "    <tr>\n",
       "      <th>34</th>\n",
       "      <td>POINT (-58.3918791813882 -34.6299453614404)</td>\n",
       "      <td>3.0</td>\n",
       "      <td>HOSP. DE PEDIATRIA DR. J. GARRAHAN</td>\n",
       "      <td>HOSP. GARRAHAN</td>\n",
       "      <td>HOSPITAL</td>\n",
       "      <td>COMBATE DE LOS POZOS</td>\n",
       "      <td>1881</td>\n",
       "      <td>COMBATE DE LOS POZOS 1881</td>\n",
       "      <td>1881 COMBATE DE LOS POZOS</td>\n",
       "      <td>4941-8772 / 4942-7475\\r\\n</td>\n",
       "      <td>4941-8702</td>\n",
       "      <td>4941-8532</td>\n",
       "      <td>www.garrahan.gov.ar</td>\n",
       "      <td>C1245AAM</td>\n",
       "      <td>Hospital de niños</td>\n",
       "      <td>PEDIATRIA</td>\n",
       "      <td>AT. AMB./INTERNACION</td>\n",
       "      <td>DIAG./TRATAM.</td>\n",
       "      <td>Ministerio de Salud GCBA</td>\n",
       "      <td>Dr. Luis Dal Bo</td>\n",
       "    </tr>\n",
       "    <tr>\n",
       "      <th>35</th>\n",
       "      <td>POINT (-58.3814293381891 -34.6419888014928)</td>\n",
       "      <td>5.0</td>\n",
       "      <td>TALLERES PROTEGIDOS DE REHABILITACION PSIQUIAT...</td>\n",
       "      <td>TALLERES DE REHAB. PSIQUIATRICA</td>\n",
       "      <td>HOSPITAL</td>\n",
       "      <td>SUAREZ</td>\n",
       "      <td>2215</td>\n",
       "      <td>SUAREZ AV. 2215</td>\n",
       "      <td>2215 SUAREZ AV.</td>\n",
       "      <td>4301-3961</td>\n",
       "      <td>NaN</td>\n",
       "      <td>4302-9160</td>\n",
       "      <td>NaN</td>\n",
       "      <td>C1284AGA</td>\n",
       "      <td>Hospital especializado</td>\n",
       "      <td>SALUD MENTAL</td>\n",
       "      <td>AT. AMBULATORIA</td>\n",
       "      <td>DIAGNOSTICO</td>\n",
       "      <td>Ministerio de Salud GCBA</td>\n",
       "      <td>Dra. Graciela María Ana Russo</td>\n",
       "    </tr>\n",
       "  </tbody>\n",
       "</table>\n",
       "</div>"
      ],
      "text/plain": [
       "                                            WKT    ID  \\\n",
       "31  POINT (-58.4710976282168 -34.5873917690227)  34.0   \n",
       "32   POINT (-58.4541167814714 -34.643894071866)  35.0   \n",
       "33  POINT (-58.4566428491103 -34.6718480140772)  36.0   \n",
       "34  POINT (-58.3918791813882 -34.6299453614404)   3.0   \n",
       "35  POINT (-58.3814293381891 -34.6419888014928)   5.0   \n",
       "\n",
       "                                               NOMBRE  \\\n",
       "31            HOSPITAL GENERAL DE AGUDOS DR. E. TORNU   \n",
       "32               HOSPITAL GENERAL DE AGUDOS P. PIÑERO   \n",
       "33                          HOSPITAL CECILIA GRIERSON   \n",
       "34                 HOSP. DE PEDIATRIA DR. J. GARRAHAN   \n",
       "35  TALLERES PROTEGIDOS DE REHABILITACION PSIQUIAT...   \n",
       "\n",
       "                            NOM_MAP    OBJETO  \\\n",
       "31                      HOSP. TORNU  HOSPITAL   \n",
       "32                     HOSP. PIÑERO  HOSPITAL   \n",
       "33                   HOSP. GRIERSON  HOSPITAL   \n",
       "34                   HOSP. GARRAHAN  HOSPITAL   \n",
       "35  TALLERES DE REHAB. PSIQUIATRICA  HOSPITAL   \n",
       "\n",
       "                                       CALLE  ALTURA  \\\n",
       "31                  COMBATIENTES DE MALVINAS    3002   \n",
       "32                                    VARELA    1301   \n",
       "33  FERNANDEZ DE LA CRUZ, F., GRAL. AV. 4402    4402   \n",
       "34                      COMBATE DE LOS POZOS    1881   \n",
       "35                                    SUAREZ    2215   \n",
       "\n",
       "                               DOM_NORMA  \\\n",
       "31     COMBATIENTES DE MALVINAS AV. 3002   \n",
       "32                       VARELA AV. 1301   \n",
       "33  FERNANDEZ DE LA CRUZ, F., GRAL. 4402   \n",
       "34             COMBATE DE LOS POZOS 1881   \n",
       "35                       SUAREZ AV. 2215   \n",
       "\n",
       "                                 DOM_GEO                   TELEFONO  \\\n",
       "31     3002 COMBATIENTES DE MALVINAS AV.    4521-3600 / 1236 / 8700   \n",
       "32                       1301 VARELA AV.           4631-8100 / 0526   \n",
       "33  4402 FERNANDEZ DE LA CRUZ, F., GRAL.                  4604-9000   \n",
       "34             1881 COMBATE DE LOS POZOS  4941-8772 / 4942-7475\\r\\n   \n",
       "35                       2215 SUAREZ AV.                  4301-3961   \n",
       "\n",
       "      GUARDIA        FAX                  WEB COD_POSTAL  \\\n",
       "31  4521-6666  4521-6677                  NaN   C1427ARN   \n",
       "32  4631-8601  4632-8626                  NaN   C1406ELA   \n",
       "33        NaN        NaN                  NaN   C1439CNU   \n",
       "34  4941-8702  4941-8532  www.garrahan.gov.ar   C1245AAM   \n",
       "35        NaN  4302-9160                  NaN   C1284AGA   \n",
       "\n",
       "                      TIPO          TIPO_ESPEC              MOD_AT_1  \\\n",
       "31      Hospital de agudos  GRAL: BAS/CRIT/OTR  AT. AMB./INTERNACION   \n",
       "32      Hospital de agudos  GRAL: BAS/CRIT/OTR  AT. AMB./INTERNACION   \n",
       "33      Hospital de agudos                 NaN                   NaN   \n",
       "34       Hospital de niños           PEDIATRIA  AT. AMB./INTERNACION   \n",
       "35  Hospital especializado        SALUD MENTAL       AT. AMBULATORIA   \n",
       "\n",
       "         MOD_AT_2                DEPEND_ADM                       DIRECTOR  \n",
       "31  DIAG./TRATAM.  Ministerio de Salud GCBA     Dr. Luis Eduardo Castañiza  \n",
       "32  DIAG./TRATAM.  Ministerio de Salud GCBA       Dr. Rivero Marino Daniel  \n",
       "33            NaN  Ministerio de Salud GCBA              Dr. Luis Giardino  \n",
       "34  DIAG./TRATAM.  Ministerio de Salud GCBA                Dr. Luis Dal Bo  \n",
       "35    DIAGNOSTICO  Ministerio de Salud GCBA  Dra. Graciela María Ana Russo  "
      ]
     },
     "execution_count": 5,
     "metadata": {},
     "output_type": "execute_result"
    }
   ],
   "source": [
    "#si queiro ver las ultimas partes del dataframe\n",
    "data.tail()"
   ]
  },
  {
   "cell_type": "code",
   "execution_count": 6,
   "metadata": {},
   "outputs": [],
   "source": [
    "#ahora sepraro los datos que necesito, las coordenadas(wkt) ,el nombre y la direccion\n",
    "nueva_data = data[[\"WKT\", \"NOMBRE\", \"DOM_NORMA\"]]  #se pude lamar una columna metiendo una lista dentro de otra lista"
   ]
  },
  {
   "cell_type": "code",
   "execution_count": 13,
   "metadata": {},
   "outputs": [
    {
     "data": {
      "text/html": [
       "<div>\n",
       "<style scoped>\n",
       "    .dataframe tbody tr th:only-of-type {\n",
       "        vertical-align: middle;\n",
       "    }\n",
       "\n",
       "    .dataframe tbody tr th {\n",
       "        vertical-align: top;\n",
       "    }\n",
       "\n",
       "    .dataframe thead th {\n",
       "        text-align: right;\n",
       "    }\n",
       "</style>\n",
       "<table border=\"1\" class=\"dataframe\">\n",
       "  <thead>\n",
       "    <tr style=\"text-align: right;\">\n",
       "      <th></th>\n",
       "      <th>WKT</th>\n",
       "      <th>NOMBRE</th>\n",
       "      <th>DOM_NORMA</th>\n",
       "    </tr>\n",
       "  </thead>\n",
       "  <tbody>\n",
       "    <tr>\n",
       "      <th>0</th>\n",
       "      <td>POINT (-58.3775508488443 -34.6288473603881)</td>\n",
       "      <td>HOSPITAL GENERAL DE NIÑOS PEDRO DE ELIZALDE</td>\n",
       "      <td>MONTES DE OCA, MANUEL AV. 40</td>\n",
       "    </tr>\n",
       "    <tr>\n",
       "      <th>1</th>\n",
       "      <td>POINT (-58.4120700769456 -34.5941919726393)</td>\n",
       "      <td>HOSPITAL GENERAL DE NIÑOS RICARDO GUTIERREZ</td>\n",
       "      <td>GALLO 1330</td>\n",
       "    </tr>\n",
       "    <tr>\n",
       "      <th>2</th>\n",
       "      <td>POINT (-58.4027276547828 -34.5845283357505)</td>\n",
       "      <td>HOSPITAL DE ODONTOLOGIA DR. RAMON CARRILLO (EX...</td>\n",
       "      <td>SANCHEZ DE BUSTAMANTE 2529</td>\n",
       "    </tr>\n",
       "    <tr>\n",
       "      <th>3</th>\n",
       "      <td>POINT (-58.3851559118889 -34.6394041316484)</td>\n",
       "      <td>HOSPITAL DE SALUD MENTAL BRAULIO MOYANO</td>\n",
       "      <td>BRANDSEN 2570</td>\n",
       "    </tr>\n",
       "    <tr>\n",
       "      <th>4</th>\n",
       "      <td>POINT (-58.3913114406535 -34.6341535760002)</td>\n",
       "      <td>HOSPITAL DE GASTROENTEROLOGIA B. UDAONDO</td>\n",
       "      <td>CASEROS AV. 2061</td>\n",
       "    </tr>\n",
       "  </tbody>\n",
       "</table>\n",
       "</div>"
      ],
      "text/plain": [
       "                                           WKT  \\\n",
       "0  POINT (-58.3775508488443 -34.6288473603881)   \n",
       "1  POINT (-58.4120700769456 -34.5941919726393)   \n",
       "2  POINT (-58.4027276547828 -34.5845283357505)   \n",
       "3  POINT (-58.3851559118889 -34.6394041316484)   \n",
       "4  POINT (-58.3913114406535 -34.6341535760002)   \n",
       "\n",
       "                                              NOMBRE  \\\n",
       "0        HOSPITAL GENERAL DE NIÑOS PEDRO DE ELIZALDE   \n",
       "1        HOSPITAL GENERAL DE NIÑOS RICARDO GUTIERREZ   \n",
       "2  HOSPITAL DE ODONTOLOGIA DR. RAMON CARRILLO (EX...   \n",
       "3            HOSPITAL DE SALUD MENTAL BRAULIO MOYANO   \n",
       "4           HOSPITAL DE GASTROENTEROLOGIA B. UDAONDO   \n",
       "\n",
       "                      DOM_NORMA  \n",
       "0  MONTES DE OCA, MANUEL AV. 40  \n",
       "1                    GALLO 1330  \n",
       "2    SANCHEZ DE BUSTAMANTE 2529  \n",
       "3                 BRANDSEN 2570  \n",
       "4              CASEROS AV. 2061  "
      ]
     },
     "execution_count": 13,
     "metadata": {},
     "output_type": "execute_result"
    }
   ],
   "source": [
    "nueva_data.head()"
   ]
  },
  {
   "cell_type": "code",
   "execution_count": 8,
   "metadata": {},
   "outputs": [],
   "source": [
    "#NECESITO ELIMINAR EL ANTERIOR DATAFRAME PARA HACER ESPACIO EN LA MEMORIA, EN CASO DE QUE ESTÉ TRABAJANDO CON MUCHOS DATOS\n",
    "del data"
   ]
  },
  {
   "cell_type": "code",
   "execution_count": 10,
   "metadata": {},
   "outputs": [],
   "source": [
    "prueba = [1,2,3,4,5]"
   ]
  },
  {
   "cell_type": "code",
   "execution_count": 11,
   "metadata": {},
   "outputs": [],
   "source": [
    "del prueba"
   ]
  },
  {
   "cell_type": "code",
   "execution_count": 14,
   "metadata": {},
   "outputs": [
    {
     "data": {
      "text/html": [
       "<div>\n",
       "<style scoped>\n",
       "    .dataframe tbody tr th:only-of-type {\n",
       "        vertical-align: middle;\n",
       "    }\n",
       "\n",
       "    .dataframe tbody tr th {\n",
       "        vertical-align: top;\n",
       "    }\n",
       "\n",
       "    .dataframe thead th {\n",
       "        text-align: right;\n",
       "    }\n",
       "</style>\n",
       "<table border=\"1\" class=\"dataframe\">\n",
       "  <thead>\n",
       "    <tr style=\"text-align: right;\">\n",
       "      <th></th>\n",
       "      <th>WKT</th>\n",
       "      <th>NOMBRE</th>\n",
       "      <th>DOM_NORMA</th>\n",
       "    </tr>\n",
       "  </thead>\n",
       "  <tbody>\n",
       "    <tr>\n",
       "      <th>0</th>\n",
       "      <td>POINT (-58.3775508488443 -34.6288473603881)</td>\n",
       "      <td>HOSPITAL GENERAL DE NIÑOS PEDRO DE ELIZALDE</td>\n",
       "      <td>MONTES DE OCA, MANUEL AV. 40</td>\n",
       "    </tr>\n",
       "    <tr>\n",
       "      <th>1</th>\n",
       "      <td>POINT (-58.4120700769456 -34.5941919726393)</td>\n",
       "      <td>HOSPITAL GENERAL DE NIÑOS RICARDO GUTIERREZ</td>\n",
       "      <td>GALLO 1330</td>\n",
       "    </tr>\n",
       "    <tr>\n",
       "      <th>2</th>\n",
       "      <td>POINT (-58.4027276547828 -34.5845283357505)</td>\n",
       "      <td>HOSPITAL DE ODONTOLOGIA DR. RAMON CARRILLO (EX...</td>\n",
       "      <td>SANCHEZ DE BUSTAMANTE 2529</td>\n",
       "    </tr>\n",
       "    <tr>\n",
       "      <th>3</th>\n",
       "      <td>POINT (-58.3851559118889 -34.6394041316484)</td>\n",
       "      <td>HOSPITAL DE SALUD MENTAL BRAULIO MOYANO</td>\n",
       "      <td>BRANDSEN 2570</td>\n",
       "    </tr>\n",
       "    <tr>\n",
       "      <th>4</th>\n",
       "      <td>POINT (-58.3913114406535 -34.6341535760002)</td>\n",
       "      <td>HOSPITAL DE GASTROENTEROLOGIA B. UDAONDO</td>\n",
       "      <td>CASEROS AV. 2061</td>\n",
       "    </tr>\n",
       "  </tbody>\n",
       "</table>\n",
       "</div>"
      ],
      "text/plain": [
       "                                           WKT  \\\n",
       "0  POINT (-58.3775508488443 -34.6288473603881)   \n",
       "1  POINT (-58.4120700769456 -34.5941919726393)   \n",
       "2  POINT (-58.4027276547828 -34.5845283357505)   \n",
       "3  POINT (-58.3851559118889 -34.6394041316484)   \n",
       "4  POINT (-58.3913114406535 -34.6341535760002)   \n",
       "\n",
       "                                              NOMBRE  \\\n",
       "0        HOSPITAL GENERAL DE NIÑOS PEDRO DE ELIZALDE   \n",
       "1        HOSPITAL GENERAL DE NIÑOS RICARDO GUTIERREZ   \n",
       "2  HOSPITAL DE ODONTOLOGIA DR. RAMON CARRILLO (EX...   \n",
       "3            HOSPITAL DE SALUD MENTAL BRAULIO MOYANO   \n",
       "4           HOSPITAL DE GASTROENTEROLOGIA B. UDAONDO   \n",
       "\n",
       "                      DOM_NORMA  \n",
       "0  MONTES DE OCA, MANUEL AV. 40  \n",
       "1                    GALLO 1330  \n",
       "2    SANCHEZ DE BUSTAMANTE 2529  \n",
       "3                 BRANDSEN 2570  \n",
       "4              CASEROS AV. 2061  "
      ]
     },
     "execution_count": 14,
     "metadata": {},
     "output_type": "execute_result"
    }
   ],
   "source": [
    "nueva_data.head()"
   ]
  },
  {
   "cell_type": "code",
   "execution_count": 16,
   "metadata": {},
   "outputs": [
    {
     "data": {
      "text/plain": [
       "0     POINT (-58.3775508488443 -34.6288473603881)\n",
       "1     POINT (-58.4120700769456 -34.5941919726393)\n",
       "2     POINT (-58.4027276547828 -34.5845283357505)\n",
       "3     POINT (-58.3851559118889 -34.6394041316484)\n",
       "4     POINT (-58.3913114406535 -34.6341535760002)\n",
       "5     POINT (-58.4349433479819 -34.6084721257413)\n",
       "6     POINT (-58.3758433488021 -34.6302112044495)\n",
       "7     POINT (-58.3823284509488 -34.6357022351559)\n",
       "8     POINT (-58.3821283746958 -34.6364350546569)\n",
       "9     POINT (-58.3601201271455 -34.6388917320834)\n",
       "10    POINT (-58.4409882382439 -34.5538963316473)\n",
       "11     POINT (-58.4027506275377 -34.634856308415)\n",
       "12    POINT (-58.4601855775528 -34.6054342750207)\n",
       "13    POINT (-58.4276597542837 -34.6146348348429)\n",
       "14    POINT (-58.4332484381295 -34.6070507603866)\n",
       "15    POINT (-58.4323966950244 -34.6255031952483)\n",
       "16    POINT (-58.3940641604746 -34.6227125075124)\n",
       "17    POINT (-58.5021449222222 -34.6179817540591)\n",
       "18    POINT (-58.3937269413225 -34.6375293258416)\n",
       "19    POINT (-58.4752588459761 -34.5972098729151)\n",
       "20    POINT (-58.4005134574423 -34.5847659581214)\n",
       "21     POINT (-58.365985088719 -34.6283448581677)\n",
       "22     POINT (-58.4068939142787 -34.581141710889)\n",
       "23     POINT (-58.437981361705 -34.6089728538414)\n",
       "24    POINT (-58.4695020363265 -34.6241704940114)\n",
       "25    POINT (-58.4096107488155 -34.6176598438607)\n",
       "26     POINT (-58.4710781593251 -34.565051956568)\n",
       "27     POINT (-58.5110525000569 -34.599979524264)\n",
       "28      POINT (-58.50761514092 -34.6253367952668)\n",
       "29    POINT (-58.5156291936709 -34.6491867281064)\n",
       "30    POINT (-58.4108602188291 -34.6431172591975)\n",
       "31    POINT (-58.4710976282168 -34.5873917690227)\n",
       "32     POINT (-58.4541167814714 -34.643894071866)\n",
       "33    POINT (-58.4566428491103 -34.6718480140772)\n",
       "34    POINT (-58.3918791813882 -34.6299453614404)\n",
       "35    POINT (-58.3814293381891 -34.6419888014928)\n",
       "Name: WKT, dtype: object"
      ]
     },
     "execution_count": 16,
     "metadata": {},
     "output_type": "execute_result"
    }
   ],
   "source": [
    "nueva_data.WKT "
   ]
  },
  {
   "cell_type": "code",
   "execution_count": 17,
   "metadata": {},
   "outputs": [
    {
     "data": {
      "text/plain": [
       "0     POINT (-58.3775508488443 -34.6288473603881)\n",
       "1     POINT (-58.4120700769456 -34.5941919726393)\n",
       "2     POINT (-58.4027276547828 -34.5845283357505)\n",
       "3     POINT (-58.3851559118889 -34.6394041316484)\n",
       "4     POINT (-58.3913114406535 -34.6341535760002)\n",
       "5     POINT (-58.4349433479819 -34.6084721257413)\n",
       "6     POINT (-58.3758433488021 -34.6302112044495)\n",
       "7     POINT (-58.3823284509488 -34.6357022351559)\n",
       "8     POINT (-58.3821283746958 -34.6364350546569)\n",
       "9     POINT (-58.3601201271455 -34.6388917320834)\n",
       "10    POINT (-58.4409882382439 -34.5538963316473)\n",
       "11     POINT (-58.4027506275377 -34.634856308415)\n",
       "12    POINT (-58.4601855775528 -34.6054342750207)\n",
       "13    POINT (-58.4276597542837 -34.6146348348429)\n",
       "14    POINT (-58.4332484381295 -34.6070507603866)\n",
       "15    POINT (-58.4323966950244 -34.6255031952483)\n",
       "16    POINT (-58.3940641604746 -34.6227125075124)\n",
       "17    POINT (-58.5021449222222 -34.6179817540591)\n",
       "18    POINT (-58.3937269413225 -34.6375293258416)\n",
       "19    POINT (-58.4752588459761 -34.5972098729151)\n",
       "20    POINT (-58.4005134574423 -34.5847659581214)\n",
       "21     POINT (-58.365985088719 -34.6283448581677)\n",
       "22     POINT (-58.4068939142787 -34.581141710889)\n",
       "23     POINT (-58.437981361705 -34.6089728538414)\n",
       "24    POINT (-58.4695020363265 -34.6241704940114)\n",
       "25    POINT (-58.4096107488155 -34.6176598438607)\n",
       "26     POINT (-58.4710781593251 -34.565051956568)\n",
       "27     POINT (-58.5110525000569 -34.599979524264)\n",
       "28      POINT (-58.50761514092 -34.6253367952668)\n",
       "29    POINT (-58.5156291936709 -34.6491867281064)\n",
       "30    POINT (-58.4108602188291 -34.6431172591975)\n",
       "31    POINT (-58.4710976282168 -34.5873917690227)\n",
       "32     POINT (-58.4541167814714 -34.643894071866)\n",
       "33    POINT (-58.4566428491103 -34.6718480140772)\n",
       "34    POINT (-58.3918791813882 -34.6299453614404)\n",
       "35    POINT (-58.3814293381891 -34.6419888014928)\n",
       "Name: WKT, dtype: object"
      ]
     },
     "execution_count": 17,
     "metadata": {},
     "output_type": "execute_result"
    }
   ],
   "source": [
    "nueva_data[\"WKT\"]  #es recomendable este para index datos"
   ]
  },
  {
   "cell_type": "code",
   "execution_count": 19,
   "metadata": {},
   "outputs": [],
   "source": [
    "nueva_variable=nueva_data.WKT[0]"
   ]
  },
  {
   "cell_type": "code",
   "execution_count": 21,
   "metadata": {},
   "outputs": [
    {
     "data": {
      "text/plain": [
       "' (-58.3775508488443 -34.6288473603881)'"
      ]
     },
     "execution_count": 21,
     "metadata": {},
     "output_type": "execute_result"
    }
   ],
   "source": [
    "nueva_variable.replace(\"POINT\", \"\")  #para quitar y reemplazar datos"
   ]
  },
  {
   "cell_type": "code",
   "execution_count": 29,
   "metadata": {},
   "outputs": [],
   "source": [
    "nueva_variable1 = nueva_variable.replace(\"POINT \",\"\")"
   ]
  },
  {
   "cell_type": "code",
   "execution_count": 30,
   "metadata": {},
   "outputs": [
    {
     "data": {
      "text/plain": [
       "'-58.3775508488443 -34.6288473603881)'"
      ]
     },
     "execution_count": 30,
     "metadata": {},
     "output_type": "execute_result"
    }
   ],
   "source": [
    "nueva_variable1.replace(\"(\", \"\")"
   ]
  },
  {
   "cell_type": "code",
   "execution_count": 31,
   "metadata": {},
   "outputs": [],
   "source": [
    "nueva_variable2 = nueva_variable1.replace(\"(\",\"\")"
   ]
  },
  {
   "cell_type": "code",
   "execution_count": 32,
   "metadata": {},
   "outputs": [
    {
     "data": {
      "text/plain": [
       "'-58.3775508488443 -34.6288473603881'"
      ]
     },
     "execution_count": 32,
     "metadata": {},
     "output_type": "execute_result"
    }
   ],
   "source": [
    "nueva_variable2.replace(\")\", \"\")"
   ]
  },
  {
   "cell_type": "code",
   "execution_count": 34,
   "metadata": {},
   "outputs": [],
   "source": [
    "limpio = nueva_variable2.replace(\")\", \"\")"
   ]
  },
  {
   "cell_type": "code",
   "execution_count": 35,
   "metadata": {},
   "outputs": [
    {
     "data": {
      "text/plain": [
       "['-58.3775508488443', '-34.6288473603881']"
      ]
     },
     "execution_count": 35,
     "metadata": {},
     "output_type": "execute_result"
    }
   ],
   "source": [
    "limpio.split(\" \")"
   ]
  },
  {
   "cell_type": "code",
   "execution_count": 36,
   "metadata": {},
   "outputs": [
    {
     "data": {
      "text/plain": [
       "0     POINT (-58.3775508488443 -34.6288473603881)\n",
       "1     POINT (-58.4120700769456 -34.5941919726393)\n",
       "2     POINT (-58.4027276547828 -34.5845283357505)\n",
       "3     POINT (-58.3851559118889 -34.6394041316484)\n",
       "4     POINT (-58.3913114406535 -34.6341535760002)\n",
       "5     POINT (-58.4349433479819 -34.6084721257413)\n",
       "6     POINT (-58.3758433488021 -34.6302112044495)\n",
       "7     POINT (-58.3823284509488 -34.6357022351559)\n",
       "8     POINT (-58.3821283746958 -34.6364350546569)\n",
       "9     POINT (-58.3601201271455 -34.6388917320834)\n",
       "10    POINT (-58.4409882382439 -34.5538963316473)\n",
       "11     POINT (-58.4027506275377 -34.634856308415)\n",
       "12    POINT (-58.4601855775528 -34.6054342750207)\n",
       "13    POINT (-58.4276597542837 -34.6146348348429)\n",
       "14    POINT (-58.4332484381295 -34.6070507603866)\n",
       "15    POINT (-58.4323966950244 -34.6255031952483)\n",
       "16    POINT (-58.3940641604746 -34.6227125075124)\n",
       "17    POINT (-58.5021449222222 -34.6179817540591)\n",
       "18    POINT (-58.3937269413225 -34.6375293258416)\n",
       "19    POINT (-58.4752588459761 -34.5972098729151)\n",
       "20    POINT (-58.4005134574423 -34.5847659581214)\n",
       "21     POINT (-58.365985088719 -34.6283448581677)\n",
       "22     POINT (-58.4068939142787 -34.581141710889)\n",
       "23     POINT (-58.437981361705 -34.6089728538414)\n",
       "24    POINT (-58.4695020363265 -34.6241704940114)\n",
       "25    POINT (-58.4096107488155 -34.6176598438607)\n",
       "26     POINT (-58.4710781593251 -34.565051956568)\n",
       "27     POINT (-58.5110525000569 -34.599979524264)\n",
       "28      POINT (-58.50761514092 -34.6253367952668)\n",
       "29    POINT (-58.5156291936709 -34.6491867281064)\n",
       "30    POINT (-58.4108602188291 -34.6431172591975)\n",
       "31    POINT (-58.4710976282168 -34.5873917690227)\n",
       "32     POINT (-58.4541167814714 -34.643894071866)\n",
       "33    POINT (-58.4566428491103 -34.6718480140772)\n",
       "34    POINT (-58.3918791813882 -34.6299453614404)\n",
       "35    POINT (-58.3814293381891 -34.6419888014928)\n",
       "Name: WKT, dtype: object"
      ]
     },
     "execution_count": 36,
     "metadata": {},
     "output_type": "execute_result"
    }
   ],
   "source": [
    "nueva_data.WKT"
   ]
  },
  {
   "cell_type": "code",
   "execution_count": 38,
   "metadata": {},
   "outputs": [
    {
     "data": {
      "text/plain": [
       "<pandas.core.strings.accessor.StringMethods at 0x1c954381570>"
      ]
     },
     "execution_count": 38,
     "metadata": {},
     "output_type": "execute_result"
    }
   ],
   "source": [
    "nueva_data.WKT.str   #todo loq ue haga lo coge como un str, cada indice"
   ]
  },
  {
   "cell_type": "code",
   "execution_count": 39,
   "metadata": {},
   "outputs": [
    {
     "data": {
      "text/plain": [
       "0     (-58.3775508488443 -34.6288473603881)\n",
       "1     (-58.4120700769456 -34.5941919726393)\n",
       "2     (-58.4027276547828 -34.5845283357505)\n",
       "3     (-58.3851559118889 -34.6394041316484)\n",
       "4     (-58.3913114406535 -34.6341535760002)\n",
       "5     (-58.4349433479819 -34.6084721257413)\n",
       "6     (-58.3758433488021 -34.6302112044495)\n",
       "7     (-58.3823284509488 -34.6357022351559)\n",
       "8     (-58.3821283746958 -34.6364350546569)\n",
       "9     (-58.3601201271455 -34.6388917320834)\n",
       "10    (-58.4409882382439 -34.5538963316473)\n",
       "11     (-58.4027506275377 -34.634856308415)\n",
       "12    (-58.4601855775528 -34.6054342750207)\n",
       "13    (-58.4276597542837 -34.6146348348429)\n",
       "14    (-58.4332484381295 -34.6070507603866)\n",
       "15    (-58.4323966950244 -34.6255031952483)\n",
       "16    (-58.3940641604746 -34.6227125075124)\n",
       "17    (-58.5021449222222 -34.6179817540591)\n",
       "18    (-58.3937269413225 -34.6375293258416)\n",
       "19    (-58.4752588459761 -34.5972098729151)\n",
       "20    (-58.4005134574423 -34.5847659581214)\n",
       "21     (-58.365985088719 -34.6283448581677)\n",
       "22     (-58.4068939142787 -34.581141710889)\n",
       "23     (-58.437981361705 -34.6089728538414)\n",
       "24    (-58.4695020363265 -34.6241704940114)\n",
       "25    (-58.4096107488155 -34.6176598438607)\n",
       "26     (-58.4710781593251 -34.565051956568)\n",
       "27     (-58.5110525000569 -34.599979524264)\n",
       "28      (-58.50761514092 -34.6253367952668)\n",
       "29    (-58.5156291936709 -34.6491867281064)\n",
       "30    (-58.4108602188291 -34.6431172591975)\n",
       "31    (-58.4710976282168 -34.5873917690227)\n",
       "32     (-58.4541167814714 -34.643894071866)\n",
       "33    (-58.4566428491103 -34.6718480140772)\n",
       "34    (-58.3918791813882 -34.6299453614404)\n",
       "35    (-58.3814293381891 -34.6419888014928)\n",
       "Name: WKT, dtype: object"
      ]
     },
     "execution_count": 39,
     "metadata": {},
     "output_type": "execute_result"
    }
   ],
   "source": [
    "nueva_data.WKT.str.replace(\"POINT \", \"\")"
   ]
  },
  {
   "cell_type": "code",
   "execution_count": 41,
   "metadata": {},
   "outputs": [
    {
     "name": "stderr",
     "output_type": "stream",
     "text": [
      "C:\\Users\\Yenifer\\AppData\\Local\\Temp\\ipykernel_8808\\1032628392.py:1: SettingWithCopyWarning: \n",
      "A value is trying to be set on a copy of a slice from a DataFrame.\n",
      "Try using .loc[row_indexer,col_indexer] = value instead\n",
      "\n",
      "See the caveats in the documentation: https://pandas.pydata.org/pandas-docs/stable/user_guide/indexing.html#returning-a-view-versus-a-copy\n",
      "  nueva_data[\"WKT\"] = nueva_data.WKT.str.replace(\"POINT \", \"\")\n"
     ]
    }
   ],
   "source": [
    "nueva_data[\"WKT\"] = nueva_data.WKT.str.replace(\"POINT \", \"\")"
   ]
  },
  {
   "cell_type": "code",
   "execution_count": 42,
   "metadata": {},
   "outputs": [
    {
     "data": {
      "text/html": [
       "<div>\n",
       "<style scoped>\n",
       "    .dataframe tbody tr th:only-of-type {\n",
       "        vertical-align: middle;\n",
       "    }\n",
       "\n",
       "    .dataframe tbody tr th {\n",
       "        vertical-align: top;\n",
       "    }\n",
       "\n",
       "    .dataframe thead th {\n",
       "        text-align: right;\n",
       "    }\n",
       "</style>\n",
       "<table border=\"1\" class=\"dataframe\">\n",
       "  <thead>\n",
       "    <tr style=\"text-align: right;\">\n",
       "      <th></th>\n",
       "      <th>WKT</th>\n",
       "      <th>NOMBRE</th>\n",
       "      <th>DOM_NORMA</th>\n",
       "    </tr>\n",
       "  </thead>\n",
       "  <tbody>\n",
       "    <tr>\n",
       "      <th>0</th>\n",
       "      <td>(-58.3775508488443 -34.6288473603881)</td>\n",
       "      <td>HOSPITAL GENERAL DE NIÑOS PEDRO DE ELIZALDE</td>\n",
       "      <td>MONTES DE OCA, MANUEL AV. 40</td>\n",
       "    </tr>\n",
       "    <tr>\n",
       "      <th>1</th>\n",
       "      <td>(-58.4120700769456 -34.5941919726393)</td>\n",
       "      <td>HOSPITAL GENERAL DE NIÑOS RICARDO GUTIERREZ</td>\n",
       "      <td>GALLO 1330</td>\n",
       "    </tr>\n",
       "    <tr>\n",
       "      <th>2</th>\n",
       "      <td>(-58.4027276547828 -34.5845283357505)</td>\n",
       "      <td>HOSPITAL DE ODONTOLOGIA DR. RAMON CARRILLO (EX...</td>\n",
       "      <td>SANCHEZ DE BUSTAMANTE 2529</td>\n",
       "    </tr>\n",
       "    <tr>\n",
       "      <th>3</th>\n",
       "      <td>(-58.3851559118889 -34.6394041316484)</td>\n",
       "      <td>HOSPITAL DE SALUD MENTAL BRAULIO MOYANO</td>\n",
       "      <td>BRANDSEN 2570</td>\n",
       "    </tr>\n",
       "    <tr>\n",
       "      <th>4</th>\n",
       "      <td>(-58.3913114406535 -34.6341535760002)</td>\n",
       "      <td>HOSPITAL DE GASTROENTEROLOGIA B. UDAONDO</td>\n",
       "      <td>CASEROS AV. 2061</td>\n",
       "    </tr>\n",
       "  </tbody>\n",
       "</table>\n",
       "</div>"
      ],
      "text/plain": [
       "                                     WKT  \\\n",
       "0  (-58.3775508488443 -34.6288473603881)   \n",
       "1  (-58.4120700769456 -34.5941919726393)   \n",
       "2  (-58.4027276547828 -34.5845283357505)   \n",
       "3  (-58.3851559118889 -34.6394041316484)   \n",
       "4  (-58.3913114406535 -34.6341535760002)   \n",
       "\n",
       "                                              NOMBRE  \\\n",
       "0        HOSPITAL GENERAL DE NIÑOS PEDRO DE ELIZALDE   \n",
       "1        HOSPITAL GENERAL DE NIÑOS RICARDO GUTIERREZ   \n",
       "2  HOSPITAL DE ODONTOLOGIA DR. RAMON CARRILLO (EX...   \n",
       "3            HOSPITAL DE SALUD MENTAL BRAULIO MOYANO   \n",
       "4           HOSPITAL DE GASTROENTEROLOGIA B. UDAONDO   \n",
       "\n",
       "                      DOM_NORMA  \n",
       "0  MONTES DE OCA, MANUEL AV. 40  \n",
       "1                    GALLO 1330  \n",
       "2    SANCHEZ DE BUSTAMANTE 2529  \n",
       "3                 BRANDSEN 2570  \n",
       "4              CASEROS AV. 2061  "
      ]
     },
     "execution_count": 42,
     "metadata": {},
     "output_type": "execute_result"
    }
   ],
   "source": [
    "nueva_data.head()"
   ]
  },
  {
   "cell_type": "code",
   "execution_count": 43,
   "metadata": {},
   "outputs": [
    {
     "name": "stderr",
     "output_type": "stream",
     "text": [
      "C:\\Users\\Yenifer\\AppData\\Local\\Temp\\ipykernel_8808\\885178067.py:1: FutureWarning: The default value of regex will change from True to False in a future version. In addition, single character regular expressions will *not* be treated as literal strings when regex=True.\n",
      "  nueva_data.WKT.str.replace(\"(\", \"\")\n"
     ]
    },
    {
     "data": {
      "text/plain": [
       "0     -58.3775508488443 -34.6288473603881)\n",
       "1     -58.4120700769456 -34.5941919726393)\n",
       "2     -58.4027276547828 -34.5845283357505)\n",
       "3     -58.3851559118889 -34.6394041316484)\n",
       "4     -58.3913114406535 -34.6341535760002)\n",
       "5     -58.4349433479819 -34.6084721257413)\n",
       "6     -58.3758433488021 -34.6302112044495)\n",
       "7     -58.3823284509488 -34.6357022351559)\n",
       "8     -58.3821283746958 -34.6364350546569)\n",
       "9     -58.3601201271455 -34.6388917320834)\n",
       "10    -58.4409882382439 -34.5538963316473)\n",
       "11     -58.4027506275377 -34.634856308415)\n",
       "12    -58.4601855775528 -34.6054342750207)\n",
       "13    -58.4276597542837 -34.6146348348429)\n",
       "14    -58.4332484381295 -34.6070507603866)\n",
       "15    -58.4323966950244 -34.6255031952483)\n",
       "16    -58.3940641604746 -34.6227125075124)\n",
       "17    -58.5021449222222 -34.6179817540591)\n",
       "18    -58.3937269413225 -34.6375293258416)\n",
       "19    -58.4752588459761 -34.5972098729151)\n",
       "20    -58.4005134574423 -34.5847659581214)\n",
       "21     -58.365985088719 -34.6283448581677)\n",
       "22     -58.4068939142787 -34.581141710889)\n",
       "23     -58.437981361705 -34.6089728538414)\n",
       "24    -58.4695020363265 -34.6241704940114)\n",
       "25    -58.4096107488155 -34.6176598438607)\n",
       "26     -58.4710781593251 -34.565051956568)\n",
       "27     -58.5110525000569 -34.599979524264)\n",
       "28      -58.50761514092 -34.6253367952668)\n",
       "29    -58.5156291936709 -34.6491867281064)\n",
       "30    -58.4108602188291 -34.6431172591975)\n",
       "31    -58.4710976282168 -34.5873917690227)\n",
       "32     -58.4541167814714 -34.643894071866)\n",
       "33    -58.4566428491103 -34.6718480140772)\n",
       "34    -58.3918791813882 -34.6299453614404)\n",
       "35    -58.3814293381891 -34.6419888014928)\n",
       "Name: WKT, dtype: object"
      ]
     },
     "execution_count": 43,
     "metadata": {},
     "output_type": "execute_result"
    }
   ],
   "source": [
    "nueva_data.WKT.str.replace(\"(\", \"\")"
   ]
  },
  {
   "cell_type": "code",
   "execution_count": null,
   "metadata": {},
   "outputs": [],
   "source": [
    "nueva_data[\"WKT\"] = nueva_data.WKT.str.replace(\"(\")"
   ]
  },
  {
   "cell_type": "code",
   "execution_count": null,
   "metadata": {},
   "outputs": [],
   "source": [
    "nueva_data.head()"
   ]
  },
  {
   "cell_type": "code",
   "execution_count": null,
   "metadata": {},
   "outputs": [],
   "source": [
    "nueva_data.WKT.str.split(\" \")"
   ]
  },
  {
   "cell_type": "code",
   "execution_count": null,
   "metadata": {},
   "outputs": [],
   "source": [
    "#generar nueva columna para meter coordenada latitud y longitud\n",
    "#se busca en internet la latitud y longitud del pais de dónde es el hospital\n",
    "nueva_data[[\"Latitud\" , \"Longitud\"]] = nueva_data.WKT.str.split(\" \", expand = True)"
   ]
  },
  {
   "cell_type": "code",
   "execution_count": null,
   "metadata": {},
   "outputs": [],
   "source": [
    "nueva_data.head()"
   ]
  },
  {
   "cell_type": "code",
   "execution_count": null,
   "metadata": {},
   "outputs": [],
   "source": [
    "#vamos a eliminar la columna WKT\n",
    "nueva_data.drop(\"WKT\", axis = 1, inplace=True)"
   ]
  },
  {
   "cell_type": "code",
   "execution_count": null,
   "metadata": {},
   "outputs": [],
   "source": []
  }
 ],
 "metadata": {
  "kernelspec": {
   "display_name": "Python 3",
   "language": "python",
   "name": "python3"
  },
  "language_info": {
   "codemirror_mode": {
    "name": "ipython",
    "version": 3
   },
   "file_extension": ".py",
   "mimetype": "text/x-python",
   "name": "python",
   "nbconvert_exporter": "python",
   "pygments_lexer": "ipython3",
   "version": "3.10.10"
  },
  "orig_nbformat": 4,
  "vscode": {
   "interpreter": {
    "hash": "2d54e570767e6207f53570bb56a4a95ab889c5c399d802a23d4f934feb2ea66f"
   }
  }
 },
 "nbformat": 4,
 "nbformat_minor": 2
}
