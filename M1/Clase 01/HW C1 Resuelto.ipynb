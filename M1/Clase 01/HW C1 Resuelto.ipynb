{
 "cells": [
  {
   "attachments": {},
   "cell_type": "markdown",
   "metadata": {},
   "source": [
    "Ejercicio #1 entero"
   ]
  },
  {
   "cell_type": "code",
   "execution_count": 2,
   "metadata": {},
   "outputs": [],
   "source": [
    "def NumeroBinario(numero):\n",
    "    if type(numero) != int or numero < 0: return None #empezamos a evitar que ingresen # no enteros\n",
    "    elif numero == 0: return 0   #retorna a 0 ya que en bi 0 es 0\n",
    "    binario = ''  #para ir armando los 0010 lo declaro cómo str vacío\n",
    "    div_resto = 0   #es el que va a ir tomando los valores de la división\n",
    "    while numero > 0:   #este loop hasta que la parrte entera sea 0\n",
    "        div_resto = numero % 2 #acá voy a almacenar lo que devuelva el resto div 2\n",
    "        numero //= 2  #de acá sólo quiero la parte entera\n",
    "        binario += str(div_resto) #par air metiendo la información que me va dando el div resto\n",
    "    return int(binario[::-1])  #el ejercicio me pide que si es un str lo retome como entero (int) , [::-1] significa que traigo todo pero para atrás, ya que si no le pongo eso me scaa el binario al revés"
   ]
  },
  {
   "cell_type": "code",
   "execution_count": 3,
   "metadata": {},
   "outputs": [
    {
     "data": {
      "text/plain": [
       "1100"
      ]
     },
     "execution_count": 3,
     "metadata": {},
     "output_type": "execute_result"
    }
   ],
   "source": [
    "NumeroBinario(12)"
   ]
  },
  {
   "cell_type": "code",
   "execution_count": null,
   "metadata": {},
   "outputs": [],
   "source": [
    "#otra solución \n",
    "def NumeroBinario(numero):\n",
    "    if type(numero) != int or numero < 0: return None \n",
    "    elif numero == 0: return 0 \n",
    "    binario = '' \n",
    "    div_resto = 0  \n",
    "    while numero > 0: \n",
    "        div_resto = numero % 2 \n",
    "        numero //= 2\n",
    "        binario = str(div_resto) + binario  #para que primero me ponga la div resto y luego lo que va quedando\n",
    "        return(int(binario))\n",
    "        #binario += str(div_resto) \n",
    "    #return int(binario[::-1])  el -1 significa que vaya hacia atrás"
   ]
  },
  {
   "cell_type": "code",
   "execution_count": 5,
   "metadata": {},
   "outputs": [
    {
     "name": "stdout",
     "output_type": "stream",
     "text": [
      "1100\n"
     ]
    }
   ],
   "source": [
    "print(NumeroBinario(12))"
   ]
  },
  {
   "attachments": {},
   "cell_type": "markdown",
   "metadata": {},
   "source": [
    "Ejercicio #2 fracciones"
   ]
  },
  {
   "cell_type": "code",
   "execution_count": 7,
   "metadata": {},
   "outputs": [],
   "source": [
    "def binarioFraccion(numero_decimal, limite_decimales = 24):\n",
    "    if numero_decimal >= 1 or numero_decimal < 0: return None  #ya que está mal, porque el ejercicio pide es entre 0 y 9\n",
    "    elif numero_decimal == 0: return 0\n",
    "    lista_binarios = [] \n",
    "    while numero_decimal > 0 and limite_decimales > 0:   #cuando los dos lleguen a 0, sale del loop de while\n",
    "        lista_binarios.append(int(numero_decimal * 2)) #multiplico pero de esto sólo quiero la parte entera\n",
    "        numero_decimal = numero_decimal * 2 - int(numero_decimal * 2) #para que me saque el acarreo y le resto la parte entera que queda\n",
    "        limite_decimales -= 1 # el -1 e spara que vaya bajando 1 en cada vuelta y lo vaya agregando a la lista\n",
    "    numero_binario = '0.'\n",
    "    for num in lista_binarios:\n",
    "        numero_binario += str(num)\n",
    "    return numero_binario\n"
   ]
  },
  {
   "cell_type": "code",
   "execution_count": 10,
   "metadata": {},
   "outputs": [
    {
     "data": {
      "text/plain": [
       "'0.000111000111000111000111'"
      ]
     },
     "execution_count": 10,
     "metadata": {},
     "output_type": "execute_result"
    }
   ],
   "source": [
    "binarioFraccion(1/9)"
   ]
  }
 ],
 "metadata": {
  "kernelspec": {
   "display_name": "Python 3",
   "language": "python",
   "name": "python3"
  },
  "language_info": {
   "codemirror_mode": {
    "name": "ipython",
    "version": 3
   },
   "file_extension": ".py",
   "mimetype": "text/x-python",
   "name": "python",
   "nbconvert_exporter": "python",
   "pygments_lexer": "ipython3",
   "version": "3.11.1"
  },
  "orig_nbformat": 4,
  "vscode": {
   "interpreter": {
    "hash": "9f84d41541d8c899ef395c0a721a9dccc83d2e5e81fee22dcfac16392c570b09"
   }
  }
 },
 "nbformat": 4,
 "nbformat_minor": 2
}
